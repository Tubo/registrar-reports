{
 "cells": [
  {
   "cell_type": "code",
   "execution_count": 6,
   "metadata": {},
   "outputs": [],
   "source": [
    "import pandas as pd\n",
    "import "
   ]
  },
  {
   "cell_type": "code",
   "execution_count": null,
   "metadata": {},
   "outputs": [],
   "source": []
  },
  {
   "cell_type": "code",
   "execution_count": 7,
   "metadata": {},
   "outputs": [],
   "source": [
    "fn = \"../impression_crawler/output/20220522-20221130\""
   ]
  },
  {
   "cell_type": "code",
   "execution_count": 8,
   "metadata": {},
   "outputs": [
    {
     "data": {
      "text/html": [
       "<div>\n",
       "<style scoped>\n",
       "    .dataframe tbody tr th:only-of-type {\n",
       "        vertical-align: middle;\n",
       "    }\n",
       "\n",
       "    .dataframe tbody tr th {\n",
       "        vertical-align: top;\n",
       "    }\n",
       "\n",
       "    .dataframe thead th {\n",
       "        text-align: right;\n",
       "    }\n",
       "</style>\n",
       "<table border=\"1\" class=\"dataframe\">\n",
       "  <thead>\n",
       "    <tr style=\"text-align: right;\">\n",
       "      <th></th>\n",
       "      <th>date</th>\n",
       "      <th>time</th>\n",
       "      <th>user</th>\n",
       "      <th>modality</th>\n",
       "      <th>descriptor</th>\n",
       "    </tr>\n",
       "  </thead>\n",
       "  <tbody>\n",
       "    <tr>\n",
       "      <th>0</th>\n",
       "      <td>Nov 28, 2022</td>\n",
       "      <td>9:44:33 PM</td>\n",
       "      <td>Senadeera, Sajith (sajiths)</td>\n",
       "      <td>CT</td>\n",
       "      <td>CT ABDOMEN</td>\n",
       "    </tr>\n",
       "    <tr>\n",
       "      <th>1</th>\n",
       "      <td>Nov 28, 2022</td>\n",
       "      <td>9:35:41 PM</td>\n",
       "      <td>Senadeera, Sajith (sajiths)</td>\n",
       "      <td>CT</td>\n",
       "      <td>CT HEAD PERFUSION</td>\n",
       "    </tr>\n",
       "    <tr>\n",
       "      <th>2</th>\n",
       "      <td>Nov 28, 2022</td>\n",
       "      <td>9:32:44 PM</td>\n",
       "      <td>Senadeera, Sajith (sajiths)</td>\n",
       "      <td>DX</td>\n",
       "      <td>ABDOMEN</td>\n",
       "    </tr>\n",
       "    <tr>\n",
       "      <th>3</th>\n",
       "      <td>Nov 28, 2022</td>\n",
       "      <td>9:25:58 PM</td>\n",
       "      <td>Senadeera, Sajith (sajiths)</td>\n",
       "      <td>MR</td>\n",
       "      <td>MRI BRAIN</td>\n",
       "    </tr>\n",
       "    <tr>\n",
       "      <th>4</th>\n",
       "      <td>Nov 28, 2022</td>\n",
       "      <td>9:11:37 PM</td>\n",
       "      <td>Senadeera, Sajith (sajiths)</td>\n",
       "      <td>CT</td>\n",
       "      <td>CT CHEST</td>\n",
       "    </tr>\n",
       "    <tr>\n",
       "      <th>...</th>\n",
       "      <td>...</td>\n",
       "      <td>...</td>\n",
       "      <td>...</td>\n",
       "      <td>...</td>\n",
       "      <td>...</td>\n",
       "    </tr>\n",
       "    <tr>\n",
       "      <th>593</th>\n",
       "      <td>May 31, 2022</td>\n",
       "      <td>5:11:21 PM</td>\n",
       "      <td>Senadeera, Sajith (sajiths)</td>\n",
       "      <td>CT</td>\n",
       "      <td>CT CHEST ABDOMEN SPINE TRAUMA</td>\n",
       "    </tr>\n",
       "    <tr>\n",
       "      <th>594</th>\n",
       "      <td>May 31, 2022</td>\n",
       "      <td>12:00:27 PM</td>\n",
       "      <td>Senadeera, Sajith (sajiths)</td>\n",
       "      <td>CR</td>\n",
       "      <td>R SHOULDER</td>\n",
       "    </tr>\n",
       "    <tr>\n",
       "      <th>595</th>\n",
       "      <td>May 30, 2022</td>\n",
       "      <td>5:12:08 PM</td>\n",
       "      <td>Senadeera, Sajith (sajiths)</td>\n",
       "      <td>CT</td>\n",
       "      <td>CT ABDOMEN</td>\n",
       "    </tr>\n",
       "    <tr>\n",
       "      <th>596</th>\n",
       "      <td>May 30, 2022</td>\n",
       "      <td>5:10:36 PM</td>\n",
       "      <td>Senadeera, Sajith (sajiths)</td>\n",
       "      <td>CT</td>\n",
       "      <td>CT ABDOMEN</td>\n",
       "    </tr>\n",
       "    <tr>\n",
       "      <th>597</th>\n",
       "      <td>May 30, 2022</td>\n",
       "      <td>4:46:12 PM</td>\n",
       "      <td>Senadeera, Sajith (sajiths)</td>\n",
       "      <td>CT</td>\n",
       "      <td>CT NECK</td>\n",
       "    </tr>\n",
       "  </tbody>\n",
       "</table>\n",
       "<p>598 rows × 5 columns</p>\n",
       "</div>"
      ],
      "text/plain": [
       "             date         time                         user modality  \\\n",
       "0    Nov 28, 2022   9:44:33 PM  Senadeera, Sajith (sajiths)       CT   \n",
       "1    Nov 28, 2022   9:35:41 PM  Senadeera, Sajith (sajiths)       CT   \n",
       "2    Nov 28, 2022   9:32:44 PM  Senadeera, Sajith (sajiths)       DX   \n",
       "3    Nov 28, 2022   9:25:58 PM  Senadeera, Sajith (sajiths)       MR   \n",
       "4    Nov 28, 2022   9:11:37 PM  Senadeera, Sajith (sajiths)       CT   \n",
       "..            ...          ...                          ...      ...   \n",
       "593  May 31, 2022   5:11:21 PM  Senadeera, Sajith (sajiths)       CT   \n",
       "594  May 31, 2022  12:00:27 PM  Senadeera, Sajith (sajiths)       CR   \n",
       "595  May 30, 2022   5:12:08 PM  Senadeera, Sajith (sajiths)       CT   \n",
       "596  May 30, 2022   5:10:36 PM  Senadeera, Sajith (sajiths)       CT   \n",
       "597  May 30, 2022   4:46:12 PM  Senadeera, Sajith (sajiths)       CT   \n",
       "\n",
       "                        descriptor  \n",
       "0                       CT ABDOMEN  \n",
       "1                CT HEAD PERFUSION  \n",
       "2                          ABDOMEN  \n",
       "3                        MRI BRAIN  \n",
       "4                         CT CHEST  \n",
       "..                             ...  \n",
       "593  CT CHEST ABDOMEN SPINE TRAUMA  \n",
       "594                     R SHOULDER  \n",
       "595                     CT ABDOMEN  \n",
       "596                     CT ABDOMEN  \n",
       "597                        CT NECK  \n",
       "\n",
       "[598 rows x 5 columns]"
      ]
     },
     "execution_count": 8,
     "metadata": {},
     "output_type": "execute_result"
    }
   ],
   "source": [
    "df = pd.read_pickle(fn + \".pkl\")\n",
    "df"
   ]
  },
  {
   "cell_type": "code",
   "execution_count": 9,
   "metadata": {},
   "outputs": [],
   "source": [
    "summary = df.groupby(\"user\").modality.value_counts()"
   ]
  },
  {
   "cell_type": "code",
   "execution_count": 10,
   "metadata": {},
   "outputs": [],
   "source": [
    "pd.DataFrame(summary).to_string(fn + \".txt\")"
   ]
  }
 ],
 "metadata": {
  "interpreter": {
   "hash": "780799423c6e24bdcfd554abecd98de0bba97912c1c65639381367ae2002c520"
  },
  "kernelspec": {
   "display_name": "Python 3 (ipykernel)",
   "language": "python",
   "name": "python3"
  },
  "language_info": {
   "codemirror_mode": {
    "name": "ipython",
    "version": 3
   },
   "file_extension": ".py",
   "mimetype": "text/x-python",
   "name": "python",
   "nbconvert_exporter": "python",
   "pygments_lexer": "ipython3",
   "version": "3.9.9"
  }
 },
 "nbformat": 4,
 "nbformat_minor": 4
}
