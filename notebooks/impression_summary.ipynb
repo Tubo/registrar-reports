{
 "cells": [
  {
   "cell_type": "code",
   "execution_count": 1,
   "metadata": {},
   "outputs": [],
   "source": [
    "import os\n",
    "import pandas as pd"
   ]
  },
  {
   "cell_type": "code",
   "execution_count": 12,
   "metadata": {},
   "outputs": [],
   "source": [
    "users_path = \"../Impressions.xlsx\"\n",
    "data_path = \"2023-05-09T171238.pkl\""
   ]
  },
  {
   "cell_type": "code",
   "execution_count": 28,
   "metadata": {},
   "outputs": [],
   "source": [
    "users = pd.read_excel(users_path).dropna()\n",
    "df = pd.read_pickle(data_path)\n"
   ]
  },
  {
   "cell_type": "code",
   "execution_count": 29,
   "metadata": {},
   "outputs": [
    {
     "data": {
      "text/html": [
       "<div>\n",
       "<style scoped>\n",
       "    .dataframe tbody tr th:only-of-type {\n",
       "        vertical-align: middle;\n",
       "    }\n",
       "\n",
       "    .dataframe tbody tr th {\n",
       "        vertical-align: top;\n",
       "    }\n",
       "\n",
       "    .dataframe thead th {\n",
       "        text-align: right;\n",
       "    }\n",
       "</style>\n",
       "<table border=\"1\" class=\"dataframe\">\n",
       "  <thead>\n",
       "    <tr style=\"text-align: right;\">\n",
       "      <th></th>\n",
       "      <th>Name</th>\n",
       "      <th>Username</th>\n",
       "      <th>StartYear</th>\n",
       "      <th>Graduated</th>\n",
       "      <th>Start</th>\n",
       "      <th>End</th>\n",
       "    </tr>\n",
       "  </thead>\n",
       "  <tbody>\n",
       "    <tr>\n",
       "      <th>2</th>\n",
       "      <td>Kelly Aitken</td>\n",
       "      <td>KellyA3</td>\n",
       "      <td>2022</td>\n",
       "      <td>0</td>\n",
       "      <td>2023-01-17</td>\n",
       "      <td>2023-04-23</td>\n",
       "    </tr>\n",
       "    <tr>\n",
       "      <th>3</th>\n",
       "      <td>Erika Stark</td>\n",
       "      <td>ErikaS3</td>\n",
       "      <td>2022</td>\n",
       "      <td>0</td>\n",
       "      <td>2022-11-21</td>\n",
       "      <td>2023-04-23</td>\n",
       "    </tr>\n",
       "    <tr>\n",
       "      <th>10</th>\n",
       "      <td>Waleed</td>\n",
       "      <td>waleedb</td>\n",
       "      <td>2019</td>\n",
       "      <td>0</td>\n",
       "      <td>2022-11-21</td>\n",
       "      <td>2023-04-23</td>\n",
       "    </tr>\n",
       "    <tr>\n",
       "      <th>11</th>\n",
       "      <td>Tubo</td>\n",
       "      <td>TuboS</td>\n",
       "      <td>2019</td>\n",
       "      <td>0</td>\n",
       "      <td>2022-11-21</td>\n",
       "      <td>2023-04-23</td>\n",
       "    </tr>\n",
       "    <tr>\n",
       "      <th>12</th>\n",
       "      <td>NickO</td>\n",
       "      <td>NicholaO</td>\n",
       "      <td>2019</td>\n",
       "      <td>0</td>\n",
       "      <td>2022-11-21</td>\n",
       "      <td>2023-04-23</td>\n",
       "    </tr>\n",
       "    <tr>\n",
       "      <th>13</th>\n",
       "      <td>Angelo</td>\n",
       "      <td>AngeloD</td>\n",
       "      <td>2019</td>\n",
       "      <td>0</td>\n",
       "      <td>2022-11-21</td>\n",
       "      <td>2023-04-23</td>\n",
       "    </tr>\n",
       "    <tr>\n",
       "      <th>14</th>\n",
       "      <td>Benji</td>\n",
       "      <td>benjamir</td>\n",
       "      <td>2019</td>\n",
       "      <td>0</td>\n",
       "      <td>2022-11-21</td>\n",
       "      <td>2023-04-23</td>\n",
       "    </tr>\n",
       "    <tr>\n",
       "      <th>15</th>\n",
       "      <td>Michelle</td>\n",
       "      <td>mmarais</td>\n",
       "      <td>2018</td>\n",
       "      <td>0</td>\n",
       "      <td>2022-11-21</td>\n",
       "      <td>2023-04-23</td>\n",
       "    </tr>\n",
       "    <tr>\n",
       "      <th>16</th>\n",
       "      <td>Ingrid</td>\n",
       "      <td>ingridm1</td>\n",
       "      <td>2018</td>\n",
       "      <td>0</td>\n",
       "      <td>2022-11-21</td>\n",
       "      <td>2023-04-23</td>\n",
       "    </tr>\n",
       "    <tr>\n",
       "      <th>17</th>\n",
       "      <td>Willem Ikink</td>\n",
       "      <td>WillemI</td>\n",
       "      <td>2018</td>\n",
       "      <td>0</td>\n",
       "      <td>2022-11-21</td>\n",
       "      <td>2023-04-23</td>\n",
       "    </tr>\n",
       "    <tr>\n",
       "      <th>18</th>\n",
       "      <td>Sajith</td>\n",
       "      <td>sajiths</td>\n",
       "      <td>2018</td>\n",
       "      <td>0</td>\n",
       "      <td>2022-11-21</td>\n",
       "      <td>2023-04-23</td>\n",
       "    </tr>\n",
       "    <tr>\n",
       "      <th>19</th>\n",
       "      <td>Chris Fernando</td>\n",
       "      <td>CFernando</td>\n",
       "      <td>2018</td>\n",
       "      <td>0</td>\n",
       "      <td>2022-11-21</td>\n",
       "      <td>2023-04-24</td>\n",
       "    </tr>\n",
       "  </tbody>\n",
       "</table>\n",
       "</div>"
      ],
      "text/plain": [
       "              Name   Username  StartYear  Graduated      Start        End\n",
       "2     Kelly Aitken    KellyA3       2022          0 2023-01-17 2023-04-23\n",
       "3      Erika Stark    ErikaS3       2022          0 2022-11-21 2023-04-23\n",
       "10          Waleed    waleedb       2019          0 2022-11-21 2023-04-23\n",
       "11            Tubo      TuboS       2019          0 2022-11-21 2023-04-23\n",
       "12           NickO   NicholaO       2019          0 2022-11-21 2023-04-23\n",
       "13          Angelo    AngeloD       2019          0 2022-11-21 2023-04-23\n",
       "14           Benji   benjamir       2019          0 2022-11-21 2023-04-23\n",
       "15        Michelle    mmarais       2018          0 2022-11-21 2023-04-23\n",
       "16          Ingrid   ingridm1       2018          0 2022-11-21 2023-04-23\n",
       "17    Willem Ikink    WillemI       2018          0 2022-11-21 2023-04-23\n",
       "18          Sajith    sajiths       2018          0 2022-11-21 2023-04-23\n",
       "19  Chris Fernando  CFernando       2018          0 2022-11-21 2023-04-24"
      ]
     },
     "execution_count": 29,
     "metadata": {},
     "output_type": "execute_result"
    }
   ],
   "source": [
    "users"
   ]
  },
  {
   "cell_type": "code",
   "execution_count": 30,
   "metadata": {},
   "outputs": [
    {
     "data": {
      "text/html": [
       "<div>\n",
       "<style scoped>\n",
       "    .dataframe tbody tr th:only-of-type {\n",
       "        vertical-align: middle;\n",
       "    }\n",
       "\n",
       "    .dataframe tbody tr th {\n",
       "        vertical-align: top;\n",
       "    }\n",
       "\n",
       "    .dataframe thead th {\n",
       "        text-align: right;\n",
       "    }\n",
       "</style>\n",
       "<table border=\"1\" class=\"dataframe\">\n",
       "  <thead>\n",
       "    <tr style=\"text-align: right;\">\n",
       "      <th></th>\n",
       "      <th>date</th>\n",
       "      <th>user</th>\n",
       "      <th>modality</th>\n",
       "      <th>descriptor</th>\n",
       "    </tr>\n",
       "  </thead>\n",
       "  <tbody>\n",
       "    <tr>\n",
       "      <th>0</th>\n",
       "      <td>2023-03-27 22:28:05</td>\n",
       "      <td>Aitken, Kelly (KellyA3)</td>\n",
       "      <td>CT</td>\n",
       "      <td>CT CHEST CTPA</td>\n",
       "    </tr>\n",
       "    <tr>\n",
       "      <th>1</th>\n",
       "      <td>2023-03-27 21:07:13</td>\n",
       "      <td>Aitken, Kelly (KellyA3)</td>\n",
       "      <td>CT</td>\n",
       "      <td>CT CHEST</td>\n",
       "    </tr>\n",
       "    <tr>\n",
       "      <th>2</th>\n",
       "      <td>2023-03-27 20:57:33</td>\n",
       "      <td>Aitken, Kelly (KellyA3)</td>\n",
       "      <td>CT</td>\n",
       "      <td>CT CHEST</td>\n",
       "    </tr>\n",
       "    <tr>\n",
       "      <th>3</th>\n",
       "      <td>2023-03-27 20:20:00</td>\n",
       "      <td>Aitken, Kelly (KellyA3)</td>\n",
       "      <td>CT</td>\n",
       "      <td>CT ABDOMEN</td>\n",
       "    </tr>\n",
       "    <tr>\n",
       "      <th>4</th>\n",
       "      <td>2023-03-27 19:32:33</td>\n",
       "      <td>Aitken, Kelly (KellyA3)</td>\n",
       "      <td>CT</td>\n",
       "      <td>CT CHEST</td>\n",
       "    </tr>\n",
       "  </tbody>\n",
       "</table>\n",
       "</div>"
      ],
      "text/plain": [
       "                 date                     user modality     descriptor\n",
       "0 2023-03-27 22:28:05  Aitken, Kelly (KellyA3)       CT  CT CHEST CTPA\n",
       "1 2023-03-27 21:07:13  Aitken, Kelly (KellyA3)       CT       CT CHEST\n",
       "2 2023-03-27 20:57:33  Aitken, Kelly (KellyA3)       CT       CT CHEST\n",
       "3 2023-03-27 20:20:00  Aitken, Kelly (KellyA3)       CT     CT ABDOMEN\n",
       "4 2023-03-27 19:32:33  Aitken, Kelly (KellyA3)       CT       CT CHEST"
      ]
     },
     "execution_count": 30,
     "metadata": {},
     "output_type": "execute_result"
    }
   ],
   "source": [
    "df.head()"
   ]
  },
  {
   "cell_type": "code",
   "execution_count": 31,
   "metadata": {},
   "outputs": [],
   "source": [
    "usernames = df.user.str.extract(r\"\\((?P<username>.*)\\)\")\n",
    "df[\"username\"] = usernames"
   ]
  },
  {
   "cell_type": "code",
   "execution_count": 39,
   "metadata": {},
   "outputs": [],
   "source": [
    "grouped = df[[\"username\", \"modality\"]].groupby([\"username\", \"modality\"], sort=False)"
   ]
  },
  {
   "cell_type": "code",
   "execution_count": 47,
   "metadata": {},
   "outputs": [],
   "source": [
    "grouped.size().to_string(\"output.txt\")"
   ]
  },
  {
   "cell_type": "code",
   "execution_count": 9,
   "metadata": {},
   "outputs": [],
   "source": [
    "summary = df.groupby(\"user\").modality.value_counts()"
   ]
  },
  {
   "cell_type": "code",
   "execution_count": 10,
   "metadata": {},
   "outputs": [],
   "source": [
    "pd.DataFrame(summary).to_string(fn + \".txt\")"
   ]
  }
 ],
 "metadata": {
  "interpreter": {
   "hash": "780799423c6e24bdcfd554abecd98de0bba97912c1c65639381367ae2002c520"
  },
  "kernelspec": {
   "display_name": "Python 3 (ipykernel)",
   "language": "python",
   "name": "python3"
  },
  "language_info": {
   "codemirror_mode": {
    "name": "ipython",
    "version": 3
   },
   "file_extension": ".py",
   "mimetype": "text/x-python",
   "name": "python",
   "nbconvert_exporter": "python",
   "pygments_lexer": "ipython3",
   "version": "3.10.6"
  }
 },
 "nbformat": 4,
 "nbformat_minor": 4
}
