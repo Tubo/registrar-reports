{
 "cells": [
  {
   "cell_type": "code",
   "execution_count": 27,
   "metadata": {},
   "outputs": [],
   "source": [
    "import sys, csv\n",
    "sys.path.append('../registrar_reports/src')\n",
    "from parts_parser import parse\n",
    "\n",
    "import pandas as pd"
   ]
  },
  {
   "cell_type": "code",
   "execution_count": 69,
   "metadata": {},
   "outputs": [],
   "source": [
    "raw_file  = pd.read_csv('../output/impression_count/raw.csv', index_col=0)"
   ]
  },
  {
   "cell_type": "code",
   "execution_count": 61,
   "metadata": {},
   "outputs": [],
   "source": [
    "def clean_data(df):\n",
    "    # rename modality of DX and PX to CR\n",
    "    df[\"modality\"] = df[\"modality\"].apply(lambda x: \"CR\" if x in [\"DX\", \"PX\"] else x)\n",
    "    return df"
   ]
  },
  {
   "cell_type": "code",
   "execution_count": 60,
   "metadata": {},
   "outputs": [],
   "source": [
    "def deduplication(df):\n",
    "    # Split rows into formal reports and impressions\n",
    "    formal_reports = raw_file[raw_file['action'] == 'Complete dictation']\n",
    "    impressions = raw_file[raw_file['action'] == 'Add Emergency Impression']\n",
    "\n",
    "    # Only keep impressions that have unique accession_no\n",
    "    impressions = impressions.drop_duplicates(subset=\"accession_no\")\n",
    "\n",
    "    # Remove impressions that are already in formal reports\n",
    "    impressions = impressions[\n",
    "        ~impressions[\"accession_no\"].isin(formal_reports[\"accession_no\"])\n",
    "    ]\n",
    "\n",
    "    # Combine the two dataframes\n",
    "    deduped = pd.concat([formal_reports, impressions])\n",
    "    return deduped"
   ]
  },
  {
   "cell_type": "code",
   "execution_count": 63,
   "metadata": {},
   "outputs": [],
   "source": [
    "def parse_xrays(df):\n",
    "    # Parse the parts of the report\n",
    "    df[\"sum_parts\"] = df.apply(\n",
    "        lambda row: parse(row.descriptor) if row.modality == \"CR\" else 1, axis=1\n",
    "    )\n",
    "    return df"
   ]
  },
  {
   "cell_type": "code",
   "execution_count": 70,
   "metadata": {},
   "outputs": [],
   "source": [
    "deduped = deduplication(clean_data(raw_file))"
   ]
  },
  {
   "cell_type": "code",
   "execution_count": 85,
   "metadata": {},
   "outputs": [],
   "source": [
    "def export_data(df):\n",
    "    results = []\n",
    "    for user_and_action, user_group in deduped.groupby([\"user\", \"action\"]):\n",
    "        user_result = {\"username\": user_and_action[0], \"action\": user_and_action[1]}\n",
    "        parsed = parse_xrays(user_group)\n",
    "        for modality, modality_group in parsed.groupby(\"modality\"):\n",
    "            user_result[str(modality)] = modality_group[\"sum_parts\"].sum()\n",
    "        results.append(user_result)\n",
    "        # append username, modality, sum_parts to result\n",
    "    # make NaN 0 (integer)\n",
    "    results = pd.DataFrame(results).fillna(0)\n",
    "    return results\n",
    "\n",
    "    "
   ]
  },
  {
   "cell_type": "code",
   "execution_count": 86,
   "metadata": {},
   "outputs": [
    {
     "name": "stdout",
     "output_type": "stream",
     "text": [
      "            username                    action   CR   CT  MR   US    XA\n",
      "0  Shi, Tubo (TuboS)  Add Emergency Impression   10  194   9    1   0.0\n",
      "1  Shi, Tubo (TuboS)        Complete dictation  835  289  73  216  15.0\n"
     ]
    }
   ],
   "source": [
    "print(export_data(deduped))"
   ]
  }
 ],
 "metadata": {
  "kernelspec": {
   "display_name": ".venv",
   "language": "python",
   "name": "python3"
  },
  "language_info": {
   "codemirror_mode": {
    "name": "ipython",
    "version": 3
   },
   "file_extension": ".py",
   "mimetype": "text/x-python",
   "name": "python",
   "nbconvert_exporter": "python",
   "pygments_lexer": "ipython3",
   "version": "3.12.7"
  }
 },
 "nbformat": 4,
 "nbformat_minor": 4
}
