{
 "cells": [
  {
   "cell_type": "markdown",
   "metadata": {},
   "source": [
    "# Intro\n",
    "\n",
    "Use `ce_description` as a surrogate to calculate actual number of radiographs examined.\n",
    "This will provide a more accurate way of tracking the progress of each individual registrars, as well as improving the incentives for multi-part studies.\n",
    "\n",
    "## Goal\n",
    "1. Write a parser to parse the free-text field `ce_description` and count the number of body parts examined\n",
    "2. Generate a report for individual registrars\n",
    "\n",
    "## Expected difficulties\n",
    "\n",
    "- Change of wording\n",
    "- Typos\n",
    "- Symbols\n",
    "- Misnomers\n",
    "- Inconsistencies\n",
    "- Added descriptors"
   ]
  },
  {
   "cell_type": "markdown",
   "metadata": {},
   "source": [
    "# Method"
   ]
  },
  {
   "cell_type": "markdown",
   "metadata": {},
   "source": [
    "## Inspection"
   ]
  },
  {
   "cell_type": "code",
   "execution_count": 2,
   "metadata": {},
   "outputs": [],
   "source": [
    "import re\n",
    "import pandas as pd\n",
    "import numpy as np"
   ]
  },
  {
   "cell_type": "code",
   "execution_count": 3,
   "metadata": {},
   "outputs": [],
   "source": [
    "data = pd.read_csv(\"ExamDataForTubo.csv\", usecols=[\"ce_description\", \"ex_type\", \"RegRep\", \"reporter\", \"@ TrainingYear\", \"@Phase\", \"@ RptGrp\", \"@YearMonth\"])"
   ]
  },
  {
   "cell_type": "code",
   "execution_count": 35,
   "metadata": {},
   "outputs": [
    {
     "data": {
      "text/html": [
       "<div>\n",
       "<style scoped>\n",
       "    .dataframe tbody tr th:only-of-type {\n",
       "        vertical-align: middle;\n",
       "    }\n",
       "\n",
       "    .dataframe tbody tr th {\n",
       "        vertical-align: top;\n",
       "    }\n",
       "\n",
       "    .dataframe thead th {\n",
       "        text-align: right;\n",
       "    }\n",
       "</style>\n",
       "<table border=\"1\" class=\"dataframe\">\n",
       "  <thead>\n",
       "    <tr style=\"text-align: right;\">\n",
       "      <th></th>\n",
       "      <th>ce_description</th>\n",
       "      <th>reporter</th>\n",
       "      <th>ex_type</th>\n",
       "      <th>RegRep</th>\n",
       "      <th>@ TrainingYear</th>\n",
       "      <th>@ RptGrp</th>\n",
       "      <th>@Phase</th>\n",
       "      <th>@YearMonth</th>\n",
       "    </tr>\n",
       "  </thead>\n",
       "  <tbody>\n",
       "    <tr>\n",
       "      <th>0</th>\n",
       "      <td>CHEST</td>\n",
       "      <td>DL</td>\n",
       "      <td>XR</td>\n",
       "      <td>KSH</td>\n",
       "      <td>1.0</td>\n",
       "      <td>Plain Film &amp; Fluoro</td>\n",
       "      <td>Phase 1</td>\n",
       "      <td>201312</td>\n",
       "    </tr>\n",
       "    <tr>\n",
       "      <th>4</th>\n",
       "      <td>L ANKLE</td>\n",
       "      <td>AS</td>\n",
       "      <td>XR</td>\n",
       "      <td>KSH</td>\n",
       "      <td>1.0</td>\n",
       "      <td>Plain Film &amp; Fluoro</td>\n",
       "      <td>Phase 1</td>\n",
       "      <td>201401</td>\n",
       "    </tr>\n",
       "    <tr>\n",
       "      <th>5</th>\n",
       "      <td>R ANKLE</td>\n",
       "      <td>AS</td>\n",
       "      <td>XR</td>\n",
       "      <td>KSH</td>\n",
       "      <td>1.0</td>\n",
       "      <td>Plain Film &amp; Fluoro</td>\n",
       "      <td>Phase 1</td>\n",
       "      <td>201401</td>\n",
       "    </tr>\n",
       "    <tr>\n",
       "      <th>6</th>\n",
       "      <td>R ANKLE</td>\n",
       "      <td>AS</td>\n",
       "      <td>XR</td>\n",
       "      <td>KSH</td>\n",
       "      <td>1.0</td>\n",
       "      <td>Plain Film &amp; Fluoro</td>\n",
       "      <td>Phase 1</td>\n",
       "      <td>201401</td>\n",
       "    </tr>\n",
       "    <tr>\n",
       "      <th>7</th>\n",
       "      <td>L FOOT</td>\n",
       "      <td>AS</td>\n",
       "      <td>XR</td>\n",
       "      <td>KSH</td>\n",
       "      <td>1.0</td>\n",
       "      <td>Plain Film &amp; Fluoro</td>\n",
       "      <td>Phase 1</td>\n",
       "      <td>201401</td>\n",
       "    </tr>\n",
       "    <tr>\n",
       "      <th>...</th>\n",
       "      <td>...</td>\n",
       "      <td>...</td>\n",
       "      <td>...</td>\n",
       "      <td>...</td>\n",
       "      <td>...</td>\n",
       "      <td>...</td>\n",
       "      <td>...</td>\n",
       "      <td>...</td>\n",
       "    </tr>\n",
       "    <tr>\n",
       "      <th>119067</th>\n",
       "      <td>CHEST ABDOMEN</td>\n",
       "      <td>WAB</td>\n",
       "      <td>XR</td>\n",
       "      <td>WAB</td>\n",
       "      <td>1.0</td>\n",
       "      <td>Plain Film &amp; Fluoro</td>\n",
       "      <td>Phase 1</td>\n",
       "      <td>202010</td>\n",
       "    </tr>\n",
       "    <tr>\n",
       "      <th>119070</th>\n",
       "      <td>ABDOMEN</td>\n",
       "      <td>DMR</td>\n",
       "      <td>XR</td>\n",
       "      <td>DMR</td>\n",
       "      <td>2.0</td>\n",
       "      <td>Plain Film &amp; Fluoro</td>\n",
       "      <td>Phase 1</td>\n",
       "      <td>202010</td>\n",
       "    </tr>\n",
       "    <tr>\n",
       "      <th>119071</th>\n",
       "      <td>CHEST</td>\n",
       "      <td>WJI</td>\n",
       "      <td>XR</td>\n",
       "      <td>WJI</td>\n",
       "      <td>2.0</td>\n",
       "      <td>Plain Film &amp; Fluoro</td>\n",
       "      <td>Phase 1</td>\n",
       "      <td>202010</td>\n",
       "    </tr>\n",
       "    <tr>\n",
       "      <th>119074</th>\n",
       "      <td>ABDOMEN</td>\n",
       "      <td>DMR</td>\n",
       "      <td>XR</td>\n",
       "      <td>DMR</td>\n",
       "      <td>2.0</td>\n",
       "      <td>Plain Film &amp; Fluoro</td>\n",
       "      <td>Phase 1</td>\n",
       "      <td>202010</td>\n",
       "    </tr>\n",
       "    <tr>\n",
       "      <th>119081</th>\n",
       "      <td>CHEST</td>\n",
       "      <td>BDR</td>\n",
       "      <td>XR</td>\n",
       "      <td>BDR</td>\n",
       "      <td>1.0</td>\n",
       "      <td>Plain Film &amp; Fluoro</td>\n",
       "      <td>Phase 1</td>\n",
       "      <td>202010</td>\n",
       "    </tr>\n",
       "  </tbody>\n",
       "</table>\n",
       "<p>74849 rows × 8 columns</p>\n",
       "</div>"
      ],
      "text/plain": [
       "       ce_description reporter ex_type RegRep  @ TrainingYear  \\\n",
       "0               CHEST       DL      XR    KSH             1.0   \n",
       "4             L ANKLE       AS      XR    KSH             1.0   \n",
       "5             R ANKLE       AS      XR    KSH             1.0   \n",
       "6             R ANKLE       AS      XR    KSH             1.0   \n",
       "7              L FOOT       AS      XR    KSH             1.0   \n",
       "...               ...      ...     ...    ...             ...   \n",
       "119067  CHEST ABDOMEN      WAB      XR    WAB             1.0   \n",
       "119070        ABDOMEN      DMR      XR    DMR             2.0   \n",
       "119071          CHEST      WJI      XR    WJI             2.0   \n",
       "119074        ABDOMEN      DMR      XR    DMR             2.0   \n",
       "119081          CHEST      BDR      XR    BDR             1.0   \n",
       "\n",
       "                   @ RptGrp   @Phase  @YearMonth  \n",
       "0       Plain Film & Fluoro  Phase 1      201312  \n",
       "4       Plain Film & Fluoro  Phase 1      201401  \n",
       "5       Plain Film & Fluoro  Phase 1      201401  \n",
       "6       Plain Film & Fluoro  Phase 1      201401  \n",
       "7       Plain Film & Fluoro  Phase 1      201401  \n",
       "...                     ...      ...         ...  \n",
       "119067  Plain Film & Fluoro  Phase 1      202010  \n",
       "119070  Plain Film & Fluoro  Phase 1      202010  \n",
       "119071  Plain Film & Fluoro  Phase 1      202010  \n",
       "119074  Plain Film & Fluoro  Phase 1      202010  \n",
       "119081  Plain Film & Fluoro  Phase 1      202010  \n",
       "\n",
       "[74849 rows x 8 columns]"
      ]
     },
     "execution_count": 35,
     "metadata": {},
     "output_type": "execute_result"
    }
   ],
   "source": [
    "xrs = data[data.ex_type == \"XR\"]\n",
    "xrs"
   ]
  },
  {
   "cell_type": "code",
   "execution_count": 20,
   "metadata": {},
   "outputs": [],
   "source": [
    "ce_description = xrs['ce_description']\n",
    "ce_description_counts = pd.Series(ce_description).value_counts()"
   ]
  },
  {
   "cell_type": "code",
   "execution_count": 21,
   "metadata": {},
   "outputs": [
    {
     "data": {
      "text/plain": [
       "CHEST              36951\n",
       "ABDOMEN             3851\n",
       "CHEST ABDOMEN       2871\n",
       "R HIP               2063\n",
       "L HIP               1906\n",
       "L SPINE             1581\n",
       "R KNEE              1430\n",
       "PELVIS              1340\n",
       "L KNEE              1300\n",
       "C SPINE             1046\n",
       "OPG                  810\n",
       "R SHOULDER           589\n",
       "L FINGER             575\n",
       "R HAND               552\n",
       "L SHOULDER           545\n",
       "R FINGER             515\n",
       "R ANKLE              502\n",
       "R HIP POST OP        498\n",
       "R FOOT               490\n",
       "R KNEE POST OP       484\n",
       "R FEMUR              435\n",
       "L FOOT               432\n",
       "L HAND               427\n",
       "L ANKLE              423\n",
       "L HIP POST OP        395\n",
       "L FEMUR              388\n",
       "L KNEE POST OP       387\n",
       "CHEST 1              335\n",
       "T SPINE              325\n",
       "L WRIST              318\n",
       "R WRIST              297\n",
       "BILATERAL HIPS       291\n",
       "WHOLE SPINE          268\n",
       "L ELBOW              266\n",
       "BILATERAL KNEES      239\n",
       "L THUMB              235\n",
       "T L SPINE            221\n",
       "R THUMB              207\n",
       "R ELBOW              205\n",
       "L TIB FIB            194\n",
       "R TIB FIB            185\n",
       "CHEST L HIP          170\n",
       "CHEST R HIP          169\n",
       "OPG MANDIBLE         163\n",
       "FACIAL BONES         135\n",
       "KUB                  109\n",
       "R TOE                107\n",
       "BILATERAL HANDS      102\n",
       "Name: ce_description, dtype: int64"
      ]
     },
     "execution_count": 21,
     "metadata": {},
     "output_type": "execute_result"
    }
   ],
   "source": [
    "ce_description_counts[ce_description_counts > 100]"
   ]
  },
  {
   "cell_type": "code",
   "execution_count": 38,
   "metadata": {},
   "outputs": [
    {
     "data": {
      "text/plain": [
       "383"
      ]
     },
     "execution_count": 38,
     "metadata": {},
     "output_type": "execute_result"
    }
   ],
   "source": [
    "# total number of individual descriptors, e.g. CHEST, ABDOMEN, LEFT, CERVICAL etc.\n",
    "len(set(data[data.ex_type == \"XR\"].ce_description.str.cat(sep=' ').split(\" \")))"
   ]
  },
  {
   "cell_type": "code",
   "execution_count": 84,
   "metadata": {},
   "outputs": [
    {
     "name": "stdout",
     "output_type": "stream",
     "text": [
      "330\n"
     ]
    }
   ],
   "source": [
    "# total number of individual descriptors with symbols such as .,-` removed\n",
    "descriptors = data[data.ex_type == \"XR\"].ce_description.str.replace(r\"[^\\w\\s]\", \" \").str.cat(sep=' ').split(\" \")\n",
    "print(len(set(descriptors)))"
   ]
  },
  {
   "cell_type": "code",
   "execution_count": 86,
   "metadata": {},
   "outputs": [
    {
     "data": {
      "text/plain": [
       "CHEST         42663\n",
       "L             12991\n",
       "R             11094\n",
       "ABDOMEN        7153\n",
       "HIP            6108\n",
       "              ...  \n",
       "ULTRASOUND        1\n",
       "LFINGER           1\n",
       "ILIAC             1\n",
       "ACETABULUM        1\n",
       "SACRO             1\n",
       "Length: 330, dtype: int64"
      ]
     },
     "execution_count": 86,
     "metadata": {},
     "output_type": "execute_result"
    }
   ],
   "source": [
    "counts = pd.Series(descriptors).value_counts()\n",
    "counts"
   ]
  },
  {
   "cell_type": "code",
   "execution_count": 87,
   "metadata": {},
   "outputs": [
    {
     "data": {
      "text/plain": [
       "CHEST        42663\n",
       "L            12991\n",
       "R            11094\n",
       "ABDOMEN       7153\n",
       "HIP           6108\n",
       "SPINE         4870\n",
       "KNEE          4323\n",
       "OP            2081\n",
       "POST          2081\n",
       "PELVIS        1982\n",
       "SHOULDER      1740\n",
       "ANKLE         1474\n",
       "C             1458\n",
       "FOOT          1380\n",
       "BILATERAL     1379\n",
       "HAND          1339\n",
       "FINGER        1205\n",
       "WRIST         1201\n",
       "FEMUR         1171\n",
       "OPG           1054\n",
       "               925\n",
       "T              903\n",
       "ELBOW          774\n",
       "TIB            626\n",
       "FIB            622\n",
       "THUMB          526\n",
       "HIPS           473\n",
       "1              437\n",
       "KNEES          347\n",
       "HUMERUS        330\n",
       "HANDS          328\n",
       "FEET           323\n",
       "FOREARM        305\n",
       "IN             279\n",
       "WHOLE          275\n",
       "TOE            251\n",
       "OPR            237\n",
       "MANDIBLE       237\n",
       "FACIAL         215\n",
       "BONES          213\n",
       "2              159\n",
       "KUB            132\n",
       "CLAVICLE       129\n",
       "NECK           115\n",
       "dtype: int64"
      ]
     },
     "execution_count": 87,
     "metadata": {},
     "output_type": "execute_result"
    }
   ],
   "source": [
    "counts[counts > 100]"
   ]
  },
  {
   "cell_type": "markdown",
   "metadata": {},
   "source": [
    "#### Data inhomogeneity\n",
    "By inspecting the keywords above, we found several sources of inhomogeneities.\n",
    "\n",
    "- Typos such as ABDOMON, CALCANEOUS, FINFGER\n",
    "- Missing or wrong delimiters such as CHESTABDOMEN, CHEST.ABDOMEN, LHAND, CHEST+ABDOMEN\n",
    "- Unintended symbols such as CHEST`\n",
    "- Unknown identifiers such as R16, 23, REFUGEE, OPR\n",
    "\n",
    "Fortunately, there are less than 50 keywords that appeared more than 100 times of the near 75k number of radiogrpahs."
   ]
  },
  {
   "cell_type": "markdown",
   "metadata": {},
   "source": [
    "## Parsing\n",
    "\n",
    "### Central region\n",
    "- Simple central region are counted by their appearance, such as CHEST, ABDOMEN, PELVIS\n",
    "- Multi-part central region are parsed by their modifier, such as C T L SPINE\n",
    "- Inconsistent usage of acronym such as SOFT TISSUE NECK and ST NECK\n",
    "\n",
    "### Peripheral region\n",
    "- Body part after BILATERAL are not consistently plural, such as BILATERAL ANKLE, FINGER, ELBOW\n",
    "\n",
    "### Counting conflicts\n",
    "\n",
    "- Inconsistency between modifiers and noun plurality, such as L FEET, BILATERAL HAND. In this case, the modifier takes precedence."
   ]
  },
  {
   "cell_type": "code",
   "execution_count": 52,
   "metadata": {},
   "outputs": [],
   "source": [
    "from src.parser import parse"
   ]
  },
  {
   "cell_type": "code",
   "execution_count": 53,
   "metadata": {},
   "outputs": [],
   "source": [
    "parts_sum = xrs['ce_description'].apply(parse)"
   ]
  },
  {
   "cell_type": "code",
   "execution_count": 54,
   "metadata": {},
   "outputs": [],
   "source": [
    "result = pd.concat([xrs, parts_sum.rename('parts_sum')], axis=1)"
   ]
  },
  {
   "cell_type": "code",
   "execution_count": 55,
   "metadata": {},
   "outputs": [],
   "source": [
    "result.to_csv(\"result.csv\")"
   ]
  },
  {
   "cell_type": "markdown",
   "metadata": {},
   "source": [
    "## Analysis"
   ]
  },
  {
   "cell_type": "markdown",
   "metadata": {},
   "source": [
    "### Percentage of multi-part studies"
   ]
  },
  {
   "cell_type": "code",
   "execution_count": 69,
   "metadata": {},
   "outputs": [
    {
     "data": {
      "text/html": [
       "<div>\n",
       "<style scoped>\n",
       "    .dataframe tbody tr th:only-of-type {\n",
       "        vertical-align: middle;\n",
       "    }\n",
       "\n",
       "    .dataframe tbody tr th {\n",
       "        vertical-align: top;\n",
       "    }\n",
       "\n",
       "    .dataframe thead th {\n",
       "        text-align: right;\n",
       "    }\n",
       "</style>\n",
       "<table border=\"1\" class=\"dataframe\">\n",
       "  <thead>\n",
       "    <tr style=\"text-align: right;\">\n",
       "      <th></th>\n",
       "      <th>ce_description</th>\n",
       "      <th>reporter</th>\n",
       "      <th>ex_type</th>\n",
       "      <th>RegRep</th>\n",
       "      <th>@ TrainingYear</th>\n",
       "      <th>@ RptGrp</th>\n",
       "      <th>@Phase</th>\n",
       "      <th>@YearMonth</th>\n",
       "      <th>parts_sum</th>\n",
       "    </tr>\n",
       "  </thead>\n",
       "  <tbody>\n",
       "    <tr>\n",
       "      <th>44</th>\n",
       "      <td>WRISTS HANDS FEET</td>\n",
       "      <td>DOK</td>\n",
       "      <td>XR</td>\n",
       "      <td>KSH</td>\n",
       "      <td>1.0</td>\n",
       "      <td>Plain Film &amp; Fluoro</td>\n",
       "      <td>Phase 1</td>\n",
       "      <td>201401</td>\n",
       "      <td>6</td>\n",
       "    </tr>\n",
       "    <tr>\n",
       "      <th>124</th>\n",
       "      <td>SHOULDERS HANDS HIPS L SPINE</td>\n",
       "      <td>IAC</td>\n",
       "      <td>XR</td>\n",
       "      <td>KSH</td>\n",
       "      <td>1.0</td>\n",
       "      <td>Plain Film &amp; Fluoro</td>\n",
       "      <td>Phase 1</td>\n",
       "      <td>201401</td>\n",
       "      <td>7</td>\n",
       "    </tr>\n",
       "    <tr>\n",
       "      <th>605</th>\n",
       "      <td>CHEST R HUM FOREARM FEMUR TIB FIB L FOR</td>\n",
       "      <td>JAC2</td>\n",
       "      <td>XR</td>\n",
       "      <td>KSH</td>\n",
       "      <td>1.0</td>\n",
       "      <td>Plain Film &amp; Fluoro</td>\n",
       "      <td>Phase 1</td>\n",
       "      <td>201403</td>\n",
       "      <td>6</td>\n",
       "    </tr>\n",
       "    <tr>\n",
       "      <th>1078</th>\n",
       "      <td>BILATERAL WRISTS HANDS FEET</td>\n",
       "      <td>AS</td>\n",
       "      <td>XR</td>\n",
       "      <td>KSH</td>\n",
       "      <td>1.0</td>\n",
       "      <td>Plain Film &amp; Fluoro</td>\n",
       "      <td>Phase 1</td>\n",
       "      <td>201409</td>\n",
       "      <td>6</td>\n",
       "    </tr>\n",
       "    <tr>\n",
       "      <th>2839</th>\n",
       "      <td>CHEST BILATERAL WRISTS HANDS FEET</td>\n",
       "      <td>DL</td>\n",
       "      <td>XR</td>\n",
       "      <td>KSH</td>\n",
       "      <td>2.0</td>\n",
       "      <td>Plain Film &amp; Fluoro</td>\n",
       "      <td>Phase 1</td>\n",
       "      <td>201503</td>\n",
       "      <td>7</td>\n",
       "    </tr>\n",
       "    <tr>\n",
       "      <th>...</th>\n",
       "      <td>...</td>\n",
       "      <td>...</td>\n",
       "      <td>...</td>\n",
       "      <td>...</td>\n",
       "      <td>...</td>\n",
       "      <td>...</td>\n",
       "      <td>...</td>\n",
       "      <td>...</td>\n",
       "      <td>...</td>\n",
       "    </tr>\n",
       "    <tr>\n",
       "      <th>114602</th>\n",
       "      <td>BILATERAL HANDS WRISTS FEET</td>\n",
       "      <td>RRY</td>\n",
       "      <td>XR</td>\n",
       "      <td>RRY</td>\n",
       "      <td>3.0</td>\n",
       "      <td>Plain Film &amp; Fluoro</td>\n",
       "      <td>Phase 1</td>\n",
       "      <td>202009</td>\n",
       "      <td>6</td>\n",
       "    </tr>\n",
       "    <tr>\n",
       "      <th>115068</th>\n",
       "      <td>BILATERAL HANDS WRISTS FEET</td>\n",
       "      <td>RRY</td>\n",
       "      <td>XR</td>\n",
       "      <td>RRY</td>\n",
       "      <td>3.0</td>\n",
       "      <td>Plain Film &amp; Fluoro</td>\n",
       "      <td>Phase 1</td>\n",
       "      <td>202009</td>\n",
       "      <td>6</td>\n",
       "    </tr>\n",
       "    <tr>\n",
       "      <th>116022</th>\n",
       "      <td>CHEST BILATERAL HANDS WRISTS FEET</td>\n",
       "      <td>RRY</td>\n",
       "      <td>XR</td>\n",
       "      <td>RRY</td>\n",
       "      <td>3.0</td>\n",
       "      <td>Plain Film &amp; Fluoro</td>\n",
       "      <td>Phase 1</td>\n",
       "      <td>202009</td>\n",
       "      <td>7</td>\n",
       "    </tr>\n",
       "    <tr>\n",
       "      <th>116262</th>\n",
       "      <td>BILAT SHOULDER ELBOWS WRIST HANDS KNEES</td>\n",
       "      <td>RRY</td>\n",
       "      <td>XR</td>\n",
       "      <td>RRY</td>\n",
       "      <td>3.0</td>\n",
       "      <td>Plain Film &amp; Fluoro</td>\n",
       "      <td>Phase 1</td>\n",
       "      <td>202009</td>\n",
       "      <td>10</td>\n",
       "    </tr>\n",
       "    <tr>\n",
       "      <th>116299</th>\n",
       "      <td>C SPINE BILATERAL HANDS HIPS KNEES FEET</td>\n",
       "      <td>RRY</td>\n",
       "      <td>XR</td>\n",
       "      <td>RRY</td>\n",
       "      <td>3.0</td>\n",
       "      <td>Plain Film &amp; Fluoro</td>\n",
       "      <td>Phase 1</td>\n",
       "      <td>202010</td>\n",
       "      <td>9</td>\n",
       "    </tr>\n",
       "  </tbody>\n",
       "</table>\n",
       "<p>79 rows × 9 columns</p>\n",
       "</div>"
      ],
      "text/plain": [
       "                                 ce_description reporter ex_type RegRep  \\\n",
       "44                            WRISTS HANDS FEET      DOK      XR    KSH   \n",
       "124                SHOULDERS HANDS HIPS L SPINE      IAC      XR    KSH   \n",
       "605     CHEST R HUM FOREARM FEMUR TIB FIB L FOR     JAC2      XR    KSH   \n",
       "1078                BILATERAL WRISTS HANDS FEET       AS      XR    KSH   \n",
       "2839          CHEST BILATERAL WRISTS HANDS FEET       DL      XR    KSH   \n",
       "...                                         ...      ...     ...    ...   \n",
       "114602              BILATERAL HANDS WRISTS FEET      RRY      XR    RRY   \n",
       "115068              BILATERAL HANDS WRISTS FEET      RRY      XR    RRY   \n",
       "116022        CHEST BILATERAL HANDS WRISTS FEET      RRY      XR    RRY   \n",
       "116262  BILAT SHOULDER ELBOWS WRIST HANDS KNEES      RRY      XR    RRY   \n",
       "116299  C SPINE BILATERAL HANDS HIPS KNEES FEET      RRY      XR    RRY   \n",
       "\n",
       "        @ TrainingYear             @ RptGrp   @Phase  @YearMonth  parts_sum  \n",
       "44                 1.0  Plain Film & Fluoro  Phase 1      201401          6  \n",
       "124                1.0  Plain Film & Fluoro  Phase 1      201401          7  \n",
       "605                1.0  Plain Film & Fluoro  Phase 1      201403          6  \n",
       "1078               1.0  Plain Film & Fluoro  Phase 1      201409          6  \n",
       "2839               2.0  Plain Film & Fluoro  Phase 1      201503          7  \n",
       "...                ...                  ...      ...         ...        ...  \n",
       "114602             3.0  Plain Film & Fluoro  Phase 1      202009          6  \n",
       "115068             3.0  Plain Film & Fluoro  Phase 1      202009          6  \n",
       "116022             3.0  Plain Film & Fluoro  Phase 1      202009          7  \n",
       "116262             3.0  Plain Film & Fluoro  Phase 1      202009         10  \n",
       "116299             3.0  Plain Film & Fluoro  Phase 1      202010          9  \n",
       "\n",
       "[79 rows x 9 columns]"
      ]
     },
     "execution_count": 69,
     "metadata": {},
     "output_type": "execute_result"
    }
   ],
   "source": [
    "result[result['parts_sum'] > 5]"
   ]
  },
  {
   "cell_type": "markdown",
   "metadata": {},
   "source": [
    "9360 / 75000 = 12.5%"
   ]
  },
  {
   "cell_type": "markdown",
   "metadata": {},
   "source": [
    "### Group by year and registrar"
   ]
  },
  {
   "cell_type": "code",
   "execution_count": 62,
   "metadata": {},
   "outputs": [],
   "source": [
    "registrars = result.groupby(\"RegRep\")"
   ]
  },
  {
   "cell_type": "code",
   "execution_count": 63,
   "metadata": {},
   "outputs": [],
   "source": [
    "cur = registrars.size()"
   ]
  },
  {
   "cell_type": "code",
   "execution_count": 64,
   "metadata": {},
   "outputs": [],
   "source": [
    "new = registrars['parts_sum'].sum()"
   ]
  },
  {
   "cell_type": "code",
   "execution_count": 65,
   "metadata": {},
   "outputs": [
    {
     "data": {
      "text/html": [
       "<div>\n",
       "<style scoped>\n",
       "    .dataframe tbody tr th:only-of-type {\n",
       "        vertical-align: middle;\n",
       "    }\n",
       "\n",
       "    .dataframe tbody tr th {\n",
       "        vertical-align: top;\n",
       "    }\n",
       "\n",
       "    .dataframe thead th {\n",
       "        text-align: right;\n",
       "    }\n",
       "</style>\n",
       "<table border=\"1\" class=\"dataframe\">\n",
       "  <thead>\n",
       "    <tr style=\"text-align: right;\">\n",
       "      <th></th>\n",
       "      <th>current</th>\n",
       "      <th>new</th>\n",
       "      <th>change</th>\n",
       "    </tr>\n",
       "    <tr>\n",
       "      <th>RegRep</th>\n",
       "      <th></th>\n",
       "      <th></th>\n",
       "      <th></th>\n",
       "    </tr>\n",
       "  </thead>\n",
       "  <tbody>\n",
       "    <tr>\n",
       "      <th>ADB</th>\n",
       "      <td>1350</td>\n",
       "      <td>1554</td>\n",
       "      <td>1.151111</td>\n",
       "    </tr>\n",
       "    <tr>\n",
       "      <th>ALO</th>\n",
       "      <td>3986</td>\n",
       "      <td>4903</td>\n",
       "      <td>1.230055</td>\n",
       "    </tr>\n",
       "    <tr>\n",
       "      <th>BDR</th>\n",
       "      <td>360</td>\n",
       "      <td>430</td>\n",
       "      <td>1.194444</td>\n",
       "    </tr>\n",
       "    <tr>\n",
       "      <th>CCF</th>\n",
       "      <td>2664</td>\n",
       "      <td>2954</td>\n",
       "      <td>1.108859</td>\n",
       "    </tr>\n",
       "    <tr>\n",
       "      <th>DMR</th>\n",
       "      <td>4004</td>\n",
       "      <td>4987</td>\n",
       "      <td>1.245504</td>\n",
       "    </tr>\n",
       "    <tr>\n",
       "      <th>ESG</th>\n",
       "      <td>3261</td>\n",
       "      <td>3779</td>\n",
       "      <td>1.158847</td>\n",
       "    </tr>\n",
       "    <tr>\n",
       "      <th>GJL</th>\n",
       "      <td>9409</td>\n",
       "      <td>10894</td>\n",
       "      <td>1.157828</td>\n",
       "    </tr>\n",
       "    <tr>\n",
       "      <th>IVM</th>\n",
       "      <td>1917</td>\n",
       "      <td>2422</td>\n",
       "      <td>1.263432</td>\n",
       "    </tr>\n",
       "    <tr>\n",
       "      <th>KSH</th>\n",
       "      <td>5799</td>\n",
       "      <td>6870</td>\n",
       "      <td>1.184687</td>\n",
       "    </tr>\n",
       "    <tr>\n",
       "      <th>LJS</th>\n",
       "      <td>3919</td>\n",
       "      <td>4528</td>\n",
       "      <td>1.155397</td>\n",
       "    </tr>\n",
       "    <tr>\n",
       "      <th>LJW1</th>\n",
       "      <td>6804</td>\n",
       "      <td>7630</td>\n",
       "      <td>1.121399</td>\n",
       "    </tr>\n",
       "    <tr>\n",
       "      <th>LRH</th>\n",
       "      <td>4536</td>\n",
       "      <td>5098</td>\n",
       "      <td>1.123898</td>\n",
       "    </tr>\n",
       "    <tr>\n",
       "      <th>MMARAIS</th>\n",
       "      <td>3499</td>\n",
       "      <td>3890</td>\n",
       "      <td>1.111746</td>\n",
       "    </tr>\n",
       "    <tr>\n",
       "      <th>NWO</th>\n",
       "      <td>675</td>\n",
       "      <td>796</td>\n",
       "      <td>1.179259</td>\n",
       "    </tr>\n",
       "    <tr>\n",
       "      <th>RRY</th>\n",
       "      <td>4632</td>\n",
       "      <td>5666</td>\n",
       "      <td>1.223230</td>\n",
       "    </tr>\n",
       "    <tr>\n",
       "      <th>SCK</th>\n",
       "      <td>4900</td>\n",
       "      <td>5597</td>\n",
       "      <td>1.142245</td>\n",
       "    </tr>\n",
       "    <tr>\n",
       "      <th>SCS</th>\n",
       "      <td>3593</td>\n",
       "      <td>3957</td>\n",
       "      <td>1.101308</td>\n",
       "    </tr>\n",
       "    <tr>\n",
       "      <th>SDA</th>\n",
       "      <td>5197</td>\n",
       "      <td>5612</td>\n",
       "      <td>1.079854</td>\n",
       "    </tr>\n",
       "    <tr>\n",
       "      <th>TUS</th>\n",
       "      <td>594</td>\n",
       "      <td>695</td>\n",
       "      <td>1.170034</td>\n",
       "    </tr>\n",
       "    <tr>\n",
       "      <th>WAB</th>\n",
       "      <td>887</td>\n",
       "      <td>1028</td>\n",
       "      <td>1.158963</td>\n",
       "    </tr>\n",
       "    <tr>\n",
       "      <th>WJI</th>\n",
       "      <td>2863</td>\n",
       "      <td>3272</td>\n",
       "      <td>1.142857</td>\n",
       "    </tr>\n",
       "  </tbody>\n",
       "</table>\n",
       "</div>"
      ],
      "text/plain": [
       "         current    new    change\n",
       "RegRep                           \n",
       "ADB         1350   1554  1.151111\n",
       "ALO         3986   4903  1.230055\n",
       "BDR          360    430  1.194444\n",
       "CCF         2664   2954  1.108859\n",
       "DMR         4004   4987  1.245504\n",
       "ESG         3261   3779  1.158847\n",
       "GJL         9409  10894  1.157828\n",
       "IVM         1917   2422  1.263432\n",
       "KSH         5799   6870  1.184687\n",
       "LJS         3919   4528  1.155397\n",
       "LJW1        6804   7630  1.121399\n",
       "LRH         4536   5098  1.123898\n",
       "MMARAIS     3499   3890  1.111746\n",
       "NWO          675    796  1.179259\n",
       "RRY         4632   5666  1.223230\n",
       "SCK         4900   5597  1.142245\n",
       "SCS         3593   3957  1.101308\n",
       "SDA         5197   5612  1.079854\n",
       "TUS          594    695  1.170034\n",
       "WAB          887   1028  1.158963\n",
       "WJI         2863   3272  1.142857"
      ]
     },
     "execution_count": 65,
     "metadata": {},
     "output_type": "execute_result"
    }
   ],
   "source": [
    "pd.DataFrame({\"current\": cur, \"new\": new, \"change\": new/cur})"
   ]
  },
  {
   "cell_type": "code",
   "execution_count": null,
   "metadata": {},
   "outputs": [],
   "source": [
    "grouped = result.groupby([\"RegRep\", \"@ TrainingYear\", \"@ RptGrp\"], sort=False).size()"
   ]
  },
  {
   "cell_type": "code",
   "execution_count": null,
   "metadata": {},
   "outputs": [],
   "source": [
    "pd.DataFrame(grouped).sort_values([\"RegRep\", \"@ TrainingYear\"]).head(30)"
   ]
  },
  {
   "cell_type": "markdown",
   "metadata": {},
   "source": [
    "# Result"
   ]
  },
  {
   "cell_type": "markdown",
   "metadata": {},
   "source": [
    "- There are 74849 plain radiographs recorded from 2013-12 to 2020-10, each may be include one or more body parts.\n",
    "- There are 383 unique identifiers initially, 287 unique identifiers after filtration"
   ]
  },
  {
   "cell_type": "markdown",
   "metadata": {},
   "source": [
    "# Limitations\n",
    "\n",
    "- Unintended filtration of studies with typos"
   ]
  },
  {
   "cell_type": "markdown",
   "metadata": {},
   "source": [
    "# Appendix"
   ]
  },
  {
   "cell_type": "code",
   "execution_count": 58,
   "metadata": {},
   "outputs": [],
   "source": [
    "def write_raw_descriptors():\n",
    "    # write a list of all descriptors to file\n",
    "    with open(\"raw_descriptors.txt\", \"w\") as f:\n",
    "        for term in descriptor_set:\n",
    "            f.write(f\"{term}\\n\")\n",
    "\n",
    "def write_descriptor_stats(s, fn):\n",
    "    # write a list of descriptor frequency table to file\n",
    "    with open(f\"{fn}.txt\", \"w\") as f:\n",
    "        for term, count in s.value_counts().iteritems(): \n",
    "            f.write(f\"{term}\\t\\t{count}\\n\")"
   ]
  },
  {
   "cell_type": "code",
   "execution_count": 17,
   "metadata": {},
   "outputs": [],
   "source": [
    "pd.Series(raw_descriptors).to_csv(\"ce_descriptions.txt\", index=False, header=False)"
   ]
  },
  {
   "cell_type": "code",
   "execution_count": 59,
   "metadata": {},
   "outputs": [],
   "source": [
    "write_descriptor_stats(filtered_descriptor_series, \"cleaned_descriptor_stats\")"
   ]
  }
 ],
 "metadata": {
  "kernelspec": {
   "display_name": "Python 3",
   "language": "python",
   "name": "python3"
  },
  "language_info": {
   "codemirror_mode": {
    "name": "ipython",
    "version": 3
   },
   "file_extension": ".py",
   "mimetype": "text/x-python",
   "name": "python",
   "nbconvert_exporter": "python",
   "pygments_lexer": "ipython3",
   "version": "3.8.6"
  }
 },
 "nbformat": 4,
 "nbformat_minor": 4
}
