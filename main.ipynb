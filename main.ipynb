{
 "cells": [
  {
   "cell_type": "markdown",
   "metadata": {},
   "source": [
    "# Intro\n",
    "\n",
    "Use `ce_description` as a surrogate to calculate actual number of radiographs examined.\n",
    "\n",
    "### Goal\n",
    "1. Write a parser to parse the free-text field `ce_description` and count the number of body parts examined\n",
    "2. Generate a report for individual registrars"
   ]
  },
  {
   "cell_type": "code",
   "execution_count": 66,
   "metadata": {},
   "outputs": [],
   "source": [
    "import re\n",
    "import pandas as pd\n",
    "import numpy as np"
   ]
  },
  {
   "cell_type": "code",
   "execution_count": 67,
   "metadata": {},
   "outputs": [],
   "source": [
    "data = pd.read_csv(\"ExamDataForTubo.csv\", usecols=[\"ce_description\", \"ex_type\", \"RegRep\", \"reporter\", \"@ TrainingYear\", \"@Phase\", \"@ RptGrp\", \"@YearMonth\"])"
   ]
  },
  {
   "cell_type": "code",
   "execution_count": 68,
   "metadata": {},
   "outputs": [
    {
     "data": {
      "text/html": [
       "<div>\n",
       "<style scoped>\n",
       "    .dataframe tbody tr th:only-of-type {\n",
       "        vertical-align: middle;\n",
       "    }\n",
       "\n",
       "    .dataframe tbody tr th {\n",
       "        vertical-align: top;\n",
       "    }\n",
       "\n",
       "    .dataframe thead th {\n",
       "        text-align: right;\n",
       "    }\n",
       "</style>\n",
       "<table border=\"1\" class=\"dataframe\">\n",
       "  <thead>\n",
       "    <tr style=\"text-align: right;\">\n",
       "      <th></th>\n",
       "      <th>ce_description</th>\n",
       "      <th>reporter</th>\n",
       "      <th>ex_type</th>\n",
       "      <th>RegRep</th>\n",
       "      <th>@ TrainingYear</th>\n",
       "      <th>@ RptGrp</th>\n",
       "      <th>@Phase</th>\n",
       "      <th>@YearMonth</th>\n",
       "    </tr>\n",
       "  </thead>\n",
       "  <tbody>\n",
       "    <tr>\n",
       "      <th>0</th>\n",
       "      <td>CHEST</td>\n",
       "      <td>DL</td>\n",
       "      <td>XR</td>\n",
       "      <td>KSH</td>\n",
       "      <td>1.0</td>\n",
       "      <td>Plain Film &amp; Fluoro</td>\n",
       "      <td>Phase 1</td>\n",
       "      <td>201312</td>\n",
       "    </tr>\n",
       "    <tr>\n",
       "      <th>4</th>\n",
       "      <td>L ANKLE</td>\n",
       "      <td>AS</td>\n",
       "      <td>XR</td>\n",
       "      <td>KSH</td>\n",
       "      <td>1.0</td>\n",
       "      <td>Plain Film &amp; Fluoro</td>\n",
       "      <td>Phase 1</td>\n",
       "      <td>201401</td>\n",
       "    </tr>\n",
       "    <tr>\n",
       "      <th>5</th>\n",
       "      <td>R ANKLE</td>\n",
       "      <td>AS</td>\n",
       "      <td>XR</td>\n",
       "      <td>KSH</td>\n",
       "      <td>1.0</td>\n",
       "      <td>Plain Film &amp; Fluoro</td>\n",
       "      <td>Phase 1</td>\n",
       "      <td>201401</td>\n",
       "    </tr>\n",
       "    <tr>\n",
       "      <th>6</th>\n",
       "      <td>R ANKLE</td>\n",
       "      <td>AS</td>\n",
       "      <td>XR</td>\n",
       "      <td>KSH</td>\n",
       "      <td>1.0</td>\n",
       "      <td>Plain Film &amp; Fluoro</td>\n",
       "      <td>Phase 1</td>\n",
       "      <td>201401</td>\n",
       "    </tr>\n",
       "    <tr>\n",
       "      <th>7</th>\n",
       "      <td>L FOOT</td>\n",
       "      <td>AS</td>\n",
       "      <td>XR</td>\n",
       "      <td>KSH</td>\n",
       "      <td>1.0</td>\n",
       "      <td>Plain Film &amp; Fluoro</td>\n",
       "      <td>Phase 1</td>\n",
       "      <td>201401</td>\n",
       "    </tr>\n",
       "    <tr>\n",
       "      <th>...</th>\n",
       "      <td>...</td>\n",
       "      <td>...</td>\n",
       "      <td>...</td>\n",
       "      <td>...</td>\n",
       "      <td>...</td>\n",
       "      <td>...</td>\n",
       "      <td>...</td>\n",
       "      <td>...</td>\n",
       "    </tr>\n",
       "    <tr>\n",
       "      <th>119067</th>\n",
       "      <td>CHEST ABDOMEN</td>\n",
       "      <td>WAB</td>\n",
       "      <td>XR</td>\n",
       "      <td>WAB</td>\n",
       "      <td>1.0</td>\n",
       "      <td>Plain Film &amp; Fluoro</td>\n",
       "      <td>Phase 1</td>\n",
       "      <td>202010</td>\n",
       "    </tr>\n",
       "    <tr>\n",
       "      <th>119070</th>\n",
       "      <td>ABDOMEN</td>\n",
       "      <td>DMR</td>\n",
       "      <td>XR</td>\n",
       "      <td>DMR</td>\n",
       "      <td>2.0</td>\n",
       "      <td>Plain Film &amp; Fluoro</td>\n",
       "      <td>Phase 1</td>\n",
       "      <td>202010</td>\n",
       "    </tr>\n",
       "    <tr>\n",
       "      <th>119071</th>\n",
       "      <td>CHEST</td>\n",
       "      <td>WJI</td>\n",
       "      <td>XR</td>\n",
       "      <td>WJI</td>\n",
       "      <td>2.0</td>\n",
       "      <td>Plain Film &amp; Fluoro</td>\n",
       "      <td>Phase 1</td>\n",
       "      <td>202010</td>\n",
       "    </tr>\n",
       "    <tr>\n",
       "      <th>119074</th>\n",
       "      <td>ABDOMEN</td>\n",
       "      <td>DMR</td>\n",
       "      <td>XR</td>\n",
       "      <td>DMR</td>\n",
       "      <td>2.0</td>\n",
       "      <td>Plain Film &amp; Fluoro</td>\n",
       "      <td>Phase 1</td>\n",
       "      <td>202010</td>\n",
       "    </tr>\n",
       "    <tr>\n",
       "      <th>119081</th>\n",
       "      <td>CHEST</td>\n",
       "      <td>BDR</td>\n",
       "      <td>XR</td>\n",
       "      <td>BDR</td>\n",
       "      <td>1.0</td>\n",
       "      <td>Plain Film &amp; Fluoro</td>\n",
       "      <td>Phase 1</td>\n",
       "      <td>202010</td>\n",
       "    </tr>\n",
       "  </tbody>\n",
       "</table>\n",
       "<p>74849 rows × 8 columns</p>\n",
       "</div>"
      ],
      "text/plain": [
       "       ce_description reporter ex_type RegRep  @ TrainingYear  \\\n",
       "0               CHEST       DL      XR    KSH             1.0   \n",
       "4             L ANKLE       AS      XR    KSH             1.0   \n",
       "5             R ANKLE       AS      XR    KSH             1.0   \n",
       "6             R ANKLE       AS      XR    KSH             1.0   \n",
       "7              L FOOT       AS      XR    KSH             1.0   \n",
       "...               ...      ...     ...    ...             ...   \n",
       "119067  CHEST ABDOMEN      WAB      XR    WAB             1.0   \n",
       "119070        ABDOMEN      DMR      XR    DMR             2.0   \n",
       "119071          CHEST      WJI      XR    WJI             2.0   \n",
       "119074        ABDOMEN      DMR      XR    DMR             2.0   \n",
       "119081          CHEST      BDR      XR    BDR             1.0   \n",
       "\n",
       "                   @ RptGrp   @Phase  @YearMonth  \n",
       "0       Plain Film & Fluoro  Phase 1      201312  \n",
       "4       Plain Film & Fluoro  Phase 1      201401  \n",
       "5       Plain Film & Fluoro  Phase 1      201401  \n",
       "6       Plain Film & Fluoro  Phase 1      201401  \n",
       "7       Plain Film & Fluoro  Phase 1      201401  \n",
       "...                     ...      ...         ...  \n",
       "119067  Plain Film & Fluoro  Phase 1      202010  \n",
       "119070  Plain Film & Fluoro  Phase 1      202010  \n",
       "119071  Plain Film & Fluoro  Phase 1      202010  \n",
       "119074  Plain Film & Fluoro  Phase 1      202010  \n",
       "119081  Plain Film & Fluoro  Phase 1      202010  \n",
       "\n",
       "[74849 rows x 8 columns]"
      ]
     },
     "execution_count": 68,
     "metadata": {},
     "output_type": "execute_result"
    }
   ],
   "source": [
    "data[data.ex_type == \"XR\"]"
   ]
  },
  {
   "cell_type": "code",
   "execution_count": null,
   "metadata": {},
   "outputs": [],
   "source": [
    "grouped = data.groupby([\"RegRep\", \"@ TrainingYear\", \"@ RptGrp\"], sort=False).size()"
   ]
  },
  {
   "cell_type": "code",
   "execution_count": null,
   "metadata": {},
   "outputs": [],
   "source": [
    "pd.DataFrame(grouped).sort_values([\"RegRep\", \"@ TrainingYear\"]).head(30)"
   ]
  },
  {
   "cell_type": "markdown",
   "metadata": {},
   "source": [
    "# Method\n",
    "## Data cleaning\n",
    "\n",
    "Sources of data inhomogeneity:\n",
    "\n",
    "- Typos such as ABDOMON, CALCANEOUS, FINFGER\n",
    "- Missing or wrong delimiters such as CHESTABDOMEN, CHEST.ABDOMEN, LHAND, CHEST+ABDOMEN\n",
    "- Unintended symbols such as CHEST`\n",
    "- Unknown identifiers such as R16, 23, REFUGEE, OPR"
   ]
  },
  {
   "cell_type": "code",
   "execution_count": 108,
   "metadata": {},
   "outputs": [],
   "source": [
    "descriptors = data[data.ex_type == \"XR\"].ce_description"
   ]
  },
  {
   "cell_type": "code",
   "execution_count": 62,
   "metadata": {},
   "outputs": [
    {
     "name": "stdout",
     "output_type": "stream",
     "text": [
      "383\n"
     ]
    }
   ],
   "source": [
    "raw_descriptor_list = data[data.ex_type == \"XR\"].ce_description.str.cat(sep=' ').split(\" \")\n",
    "print(len(set(raw_descriptor_list)))"
   ]
  },
  {
   "cell_type": "code",
   "execution_count": 63,
   "metadata": {},
   "outputs": [
    {
     "name": "stdout",
     "output_type": "stream",
     "text": [
      "340\n"
     ]
    }
   ],
   "source": [
    "raw_descriptor_list = data[data.ex_type == \"XR\"].ce_description.str.replace(r\"[,./`]\", \" \").str.cat(sep=' ').split(\" \")\n",
    "print(len(set(raw_descriptor_list)))"
   ]
  },
  {
   "cell_type": "markdown",
   "metadata": {},
   "source": [
    "Set a regex to remove random symbols and numbers, only keep words and dashes"
   ]
  },
  {
   "cell_type": "code",
   "execution_count": 56,
   "metadata": {},
   "outputs": [],
   "source": [
    "filtered_descriptor_series = pd.Series([term for term in raw_descriptor_list if re.match(r\"[A-Za-z][\\w]*\", term)])"
   ]
  },
  {
   "cell_type": "code",
   "execution_count": 57,
   "metadata": {},
   "outputs": [
    {
     "data": {
      "text/plain": [
       "CHEST         42663\n",
       "L             12982\n",
       "R             11094\n",
       "ABDOMEN        7153\n",
       "HIP            6108\n",
       "              ...  \n",
       "ULTRASOUND        1\n",
       "LFINGER           1\n",
       "ACETABULUM        1\n",
       "NASAL             1\n",
       "PORTACATH         1\n",
       "Length: 287, dtype: int64"
      ]
     },
     "execution_count": 57,
     "metadata": {},
     "output_type": "execute_result"
    }
   ],
   "source": [
    "filtered_descriptor_series.value_counts()"
   ]
  },
  {
   "cell_type": "markdown",
   "metadata": {},
   "source": [
    "## Parsing\n",
    "\n",
    "### Central region\n",
    "- Simple central region are counted by their appearance, such as CHEST, ABDOMEN, PELVIS\n",
    "- Multi-part central region are parsed by their modifier, such as C T L SPINE\n",
    "- Inconsistent usage of acronym such as SOFT TISSUE NECK and ST NECK\n",
    "\n",
    "### Peripheral region\n",
    "- Body part after BILATERAL are not consistently plural, such as BILATERAL ANKLE, FINGER, ELBOW\n",
    "\n",
    "### Counting conflicts\n",
    "\n",
    "- Inconsistency between modifiers and noun plurality, such as L FEET, BILATERAL HAND. In this case, the modifier takes precedence."
   ]
  },
  {
   "cell_type": "code",
   "execution_count": 110,
   "metadata": {
    "collapsed": true,
    "jupyter": {
     "outputs_hidden": true
    }
   },
   "outputs": [
    {
     "data": {
      "text/plain": [
       "2584          BILATERAL ANKLE\n",
       "11418          BILATERAL HAND\n",
       "11793         BILATERAL ELBOW\n",
       "12963          BILATERAL HAND\n",
       "21417         BILATERAL ANKLE\n",
       "22511        BILATERAL FEMORA\n",
       "22553      BILATERAL SHOULDER\n",
       "46066           BILATERAL HIP\n",
       "51483         BILATERAL ELBOW\n",
       "56345           BILATERAL HIP\n",
       "58590       BILATERAL FOREARM\n",
       "62429          BILATERAL KNEE\n",
       "65054     BILATERAL CALCANEUM\n",
       "66981          BILATERAL KNEE\n",
       "76898           BILATERAL HIP\n",
       "77303           BILATERAL HIP\n",
       "81895          BILATERAL KNEE\n",
       "82150           BILATERAL HIP\n",
       "83300         BILATERAL ELBOW\n",
       "89533         BILATERAL FEMUR\n",
       "89559           BILATERAL HIP\n",
       "94085       BILATERAL WRISTS \n",
       "97016      BILATERAL SHOULDER\n",
       "102551        BILATERAL FEMUR\n",
       "102883      BILATERAL FOREARM\n",
       "106374     BILATERAL SHOULDER\n",
       "106648          BILATERAL HIP\n",
       "Name: ce_description, dtype: object"
      ]
     },
     "execution_count": 110,
     "metadata": {},
     "output_type": "execute_result"
    }
   ],
   "source": [
    "descriptors[descriptors.str.match(r\"BILATERAL \\w+[^ST]\\s*$\")]"
   ]
  },
  {
   "cell_type": "code",
   "execution_count": 109,
   "metadata": {
    "collapsed": true,
    "jupyter": {
     "outputs_hidden": true
    }
   },
   "outputs": [
    {
     "data": {
      "text/plain": [
       "125                     SOFT TISSUE NECK\n",
       "277                     SOFT TISSUE NECK\n",
       "1822                    SOFT TISSUE NECK\n",
       "2180      CHEST ABDOMEN SOFT TISSUE NECK\n",
       "5850                    SOFT TISSUE NECK\n",
       "                       ...              \n",
       "107773                           ST NECK\n",
       "110410                           ST NECK\n",
       "112342                           ST NECK\n",
       "114566                           ST NECK\n",
       "115965                           ST NECK\n",
       "Name: ce_description, Length: 110, dtype: object"
      ]
     },
     "execution_count": 109,
     "metadata": {},
     "output_type": "execute_result"
    }
   ],
   "source": [
    "descriptors[descriptors.str.match(r\".* NECK\")]"
   ]
  },
  {
   "cell_type": "code",
   "execution_count": 111,
   "metadata": {
    "collapsed": true,
    "jupyter": {
     "outputs_hidden": true
    }
   },
   "outputs": [
    {
     "data": {
      "text/plain": [
       "33529     CHEST ABDOMEN FOR NG TUBE\n",
       "40678     CHEST ABDOMEN FOR NG TUBE\n",
       "41633             CHEST FOR NG TUBE\n",
       "43229                      CHEST NG\n",
       "47169     CHEST/ABDOMEN FOR NG TUBE\n",
       "50134            CHEST NG PLACEMENT\n",
       "63358     CHEST ABDOMEN FOR NG TUBE\n",
       "67726     CHEST ABDOMEN FOR NG TUBE\n",
       "67728     CHEST ABDOMEN FOR NG TUBE\n",
       "75066     CHEST ABDOMEN FOR NG TUBE\n",
       "75077     CHEST ABDOMEN FOR NG TUBE\n",
       "87427     CHEST/ABDOMEN FOR NG TUBE\n",
       "87473     CHEST/ABDOMEN FOR NG TUBE\n",
       "92255     CHEST ABDOMEN FOR NG TUBE\n",
       "98832        CHEST/ABDO FOR NG TUBE\n",
       "102464    CHEST/ABDOMEN FOR NG TUBE\n",
       "102465    CHEST/ABDOMEN FOR NG TUBE\n",
       "102498    CHEST/ABDOMEN FOR NG TUBE\n",
       "103558    CHEST/ABDOMEN FOR NG TUBE\n",
       "107209                     CHEST NG\n",
       "113164    CHEST ABDOMEN FOR NG TUBE\n",
       "114903    CHEST ABDOMEN FOR NG TUBE\n",
       "115720    CHEST ABDOMEN FOR NG TUBE\n",
       "115753    CHEST ABDOMEN FOR NG TUBE\n",
       "118077    CHEST/ABDOMEN FOR NG TUBE\n",
       "118747    CHEST/ABDOMEN FOR NG TUBE\n",
       "118748    CHEST/ABDOMEN FOR NG TUBE\n",
       "118784    CHEST/ABDOMEN FOR NG TUBE\n",
       "Name: ce_description, dtype: object"
      ]
     },
     "execution_count": 111,
     "metadata": {},
     "output_type": "execute_result"
    }
   ],
   "source": [
    "descriptors[descriptors.str.match(r\".* NG\")]"
   ]
  },
  {
   "cell_type": "code",
   "execution_count": 118,
   "metadata": {
    "collapsed": true,
    "jupyter": {
     "outputs_hidden": true
    }
   },
   "outputs": [
    {
     "data": {
      "text/plain": [
       "45542    L COCHLEAR IMPLANT\n",
       "46939      COCHLEAR IMPLANT\n",
       "Name: ce_description, dtype: object"
      ]
     },
     "execution_count": 118,
     "metadata": {},
     "output_type": "execute_result"
    }
   ],
   "source": [
    "descriptors[descriptors.str.match(r\".*COCHLEA.*\")]"
   ]
  },
  {
   "cell_type": "code",
   "execution_count": 150,
   "metadata": {},
   "outputs": [
    {
     "data": {
      "text/plain": [
       "0                 CHEST\n",
       "4               L ANKLE\n",
       "5               R ANKLE\n",
       "6               R ANKLE\n",
       "7                L FOOT\n",
       "              ...      \n",
       "119067    CHEST ABDOMEN\n",
       "119070          ABDOMEN\n",
       "119071            CHEST\n",
       "119074          ABDOMEN\n",
       "119081            CHEST\n",
       "Name: ce_description, Length: 74842, dtype: object"
      ]
     },
     "execution_count": 150,
     "metadata": {},
     "output_type": "execute_result"
    }
   ],
   "source": [
    "descriptors[descriptors.str.match(r\"(?<!BILATERAL )\\w+\")]"
   ]
  },
  {
   "cell_type": "code",
   "execution_count": 58,
   "metadata": {},
   "outputs": [],
   "source": [
    "def write_raw_descriptors():\n",
    "    # write a list of all descriptors to file\n",
    "    with open(\"raw_descriptors.txt\", \"w\") as f:\n",
    "        for term in descriptor_set:\n",
    "            f.write(f\"{term}\\n\")\n",
    "\n",
    "def write_descriptor_stats(s, fn):\n",
    "    # write a list of descriptor frequency table to file\n",
    "    with open(f\"{fn}.txt\", \"w\") as f:\n",
    "        for term, count in s.value_counts().iteritems(): \n",
    "            f.write(f\"{term}\\t\\t{count}\\n\")"
   ]
  },
  {
   "cell_type": "code",
   "execution_count": 59,
   "metadata": {},
   "outputs": [],
   "source": [
    "write_descriptor_stats(filtered_descriptor_series, \"cleaned_descriptor_stats\")"
   ]
  },
  {
   "cell_type": "markdown",
   "metadata": {},
   "source": [
    "# Result"
   ]
  },
  {
   "cell_type": "markdown",
   "metadata": {},
   "source": [
    "- There are 74849 plain radiographs recorded from 2013-12 to 2020-10, each may be include one or more body parts.\n",
    "- There are 383 unique identifiers initially, 287 unique identifiers after filtration"
   ]
  },
  {
   "cell_type": "markdown",
   "metadata": {},
   "source": [
    "# Limitations\n",
    "\n",
    "- Unintended filtration of studies with typos"
   ]
  }
 ],
 "metadata": {
  "kernelspec": {
   "display_name": "Python 3",
   "language": "python",
   "name": "python3"
  },
  "language_info": {
   "codemirror_mode": {
    "name": "ipython",
    "version": 3
   },
   "file_extension": ".py",
   "mimetype": "text/x-python",
   "name": "python",
   "nbconvert_exporter": "python",
   "pygments_lexer": "ipython3",
   "version": "3.8.5"
  }
 },
 "nbformat": 4,
 "nbformat_minor": 4
}
