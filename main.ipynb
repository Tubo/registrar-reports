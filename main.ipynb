{
 "cells": [
  {
   "cell_type": "markdown",
   "metadata": {},
   "source": [
    "# Intro\n",
    "\n",
    "In CDHB, the quarterly registrar's reporting stats are based on the number of reports recorded in the RIS. Regardless the number of the body parts within a study, if there's only one report being written, then \n",
    "Use `ce_description` as a surrogate to calculate actual number of radiographs examined. Other than causing unnecessary stress due to undercounting the numbers, one of the more concerning side effects is that multi-part studies will not be reported as promptly as the single-part studies.\n",
    "\n",
    "This project aim to provide a more accurate way of tracking the progress of each individual registrars, as well as improving the incentives for reporting multi-part studies.\n",
    "\n",
    "## Goal\n",
    "1. Write a parser to parse the free-text field `ce_description` and count the number of body parts examined\n",
    "2. Generate a report for individual registrars\n",
    "\n",
    "## Expected difficulties\n",
    "\n",
    "- Change of wording across time\n",
    "- Typos within the free text description field\n",
    "- Symbols are sometimes included\n",
    "- Misnomers are used\n",
    "- Inconsistencies in naming of the same study\n",
    "- Added descriptors that is irrelevant to the study type, such as AFTER CT"
   ]
  },
  {
   "cell_type": "markdown",
   "metadata": {},
   "source": [
    "# Method"
   ]
  },
  {
   "cell_type": "markdown",
   "metadata": {},
   "source": [
    "## Inspection"
   ]
  },
  {
   "cell_type": "code",
   "execution_count": 1,
   "metadata": {},
   "outputs": [],
   "source": [
    "import re\n",
    "import pandas as pd\n",
    "import numpy as np"
   ]
  },
  {
   "cell_type": "code",
   "execution_count": 4,
   "metadata": {
    "scrolled": false
   },
   "outputs": [],
   "source": [
    "data = pd.read_csv(\"ExamDataForTubo_202108.csv\", usecols=[\"ce_description\", \"ex_type\", \"RegRep\", \"reporter\", \"@ TrainingYear\", \"@Phase\", \"@ RptGrp\", \"@YearMonth\"])"
   ]
  },
  {
   "cell_type": "code",
   "execution_count": 5,
   "metadata": {
    "scrolled": false
   },
   "outputs": [
    {
     "data": {
      "text/html": [
       "<div>\n",
       "<style scoped>\n",
       "    .dataframe tbody tr th:only-of-type {\n",
       "        vertical-align: middle;\n",
       "    }\n",
       "\n",
       "    .dataframe tbody tr th {\n",
       "        vertical-align: top;\n",
       "    }\n",
       "\n",
       "    .dataframe thead th {\n",
       "        text-align: right;\n",
       "    }\n",
       "</style>\n",
       "<table border=\"1\" class=\"dataframe\">\n",
       "  <thead>\n",
       "    <tr style=\"text-align: right;\">\n",
       "      <th></th>\n",
       "      <th>ce_description</th>\n",
       "      <th>reporter</th>\n",
       "      <th>ex_type</th>\n",
       "      <th>RegRep</th>\n",
       "      <th>@ TrainingYear</th>\n",
       "      <th>@ RptGrp</th>\n",
       "      <th>@Phase</th>\n",
       "      <th>@YearMonth</th>\n",
       "    </tr>\n",
       "  </thead>\n",
       "  <tbody>\n",
       "    <tr>\n",
       "      <th>0</th>\n",
       "      <td>CHEST</td>\n",
       "      <td>ALO</td>\n",
       "      <td>XR</td>\n",
       "      <td>ALO</td>\n",
       "      <td>5</td>\n",
       "      <td>Plain Film &amp; Fluoro</td>\n",
       "      <td>Phase 2</td>\n",
       "      <td>202108</td>\n",
       "    </tr>\n",
       "    <tr>\n",
       "      <th>1</th>\n",
       "      <td>CHEST ABDOMEN</td>\n",
       "      <td>SDA</td>\n",
       "      <td>XR</td>\n",
       "      <td>SDA</td>\n",
       "      <td>4</td>\n",
       "      <td>Plain Film &amp; Fluoro</td>\n",
       "      <td>Phase 2</td>\n",
       "      <td>202108</td>\n",
       "    </tr>\n",
       "    <tr>\n",
       "      <th>3</th>\n",
       "      <td>CHEST</td>\n",
       "      <td>ALO</td>\n",
       "      <td>XR</td>\n",
       "      <td>ALO</td>\n",
       "      <td>5</td>\n",
       "      <td>Plain Film &amp; Fluoro</td>\n",
       "      <td>Phase 2</td>\n",
       "      <td>202108</td>\n",
       "    </tr>\n",
       "    <tr>\n",
       "      <th>4</th>\n",
       "      <td>CHEST ABDOMEN</td>\n",
       "      <td>ALO</td>\n",
       "      <td>XR</td>\n",
       "      <td>ALO</td>\n",
       "      <td>5</td>\n",
       "      <td>Plain Film &amp; Fluoro</td>\n",
       "      <td>Phase 2</td>\n",
       "      <td>202108</td>\n",
       "    </tr>\n",
       "    <tr>\n",
       "      <th>5</th>\n",
       "      <td>CHEST</td>\n",
       "      <td>SDA</td>\n",
       "      <td>XR</td>\n",
       "      <td>SDA</td>\n",
       "      <td>4</td>\n",
       "      <td>Plain Film &amp; Fluoro</td>\n",
       "      <td>Phase 2</td>\n",
       "      <td>202108</td>\n",
       "    </tr>\n",
       "    <tr>\n",
       "      <th>...</th>\n",
       "      <td>...</td>\n",
       "      <td>...</td>\n",
       "      <td>...</td>\n",
       "      <td>...</td>\n",
       "      <td>...</td>\n",
       "      <td>...</td>\n",
       "      <td>...</td>\n",
       "      <td>...</td>\n",
       "    </tr>\n",
       "    <tr>\n",
       "      <th>151369</th>\n",
       "      <td>L FOOT</td>\n",
       "      <td>AS</td>\n",
       "      <td>XR</td>\n",
       "      <td>KSH</td>\n",
       "      <td>1</td>\n",
       "      <td>Plain Film &amp; Fluoro</td>\n",
       "      <td>Phase 1</td>\n",
       "      <td>201401</td>\n",
       "    </tr>\n",
       "    <tr>\n",
       "      <th>151372</th>\n",
       "      <td>R SHOULDER BILATERAL HANDS FEET</td>\n",
       "      <td>GJW</td>\n",
       "      <td>XR</td>\n",
       "      <td>KSH</td>\n",
       "      <td>1</td>\n",
       "      <td>Plain Film &amp; Fluoro</td>\n",
       "      <td>Phase 1</td>\n",
       "      <td>201401</td>\n",
       "    </tr>\n",
       "    <tr>\n",
       "      <th>151376</th>\n",
       "      <td>CHEST</td>\n",
       "      <td>DL</td>\n",
       "      <td>XR</td>\n",
       "      <td>KSH</td>\n",
       "      <td>1</td>\n",
       "      <td>Plain Film &amp; Fluoro</td>\n",
       "      <td>Phase 1</td>\n",
       "      <td>201312</td>\n",
       "    </tr>\n",
       "    <tr>\n",
       "      <th>151377</th>\n",
       "      <td>CHEST</td>\n",
       "      <td>LJW1</td>\n",
       "      <td>XR</td>\n",
       "      <td>LJW1</td>\n",
       "      <td>2</td>\n",
       "      <td>Plain Film &amp; Fluoro</td>\n",
       "      <td>Phase 1</td>\n",
       "      <td>201810</td>\n",
       "    </tr>\n",
       "    <tr>\n",
       "      <th>151378</th>\n",
       "      <td>L KNEE</td>\n",
       "      <td>ADB</td>\n",
       "      <td>XR</td>\n",
       "      <td>ADB</td>\n",
       "      <td>1</td>\n",
       "      <td>Plain Film &amp; Fluoro</td>\n",
       "      <td>Phase 1</td>\n",
       "      <td>202005</td>\n",
       "    </tr>\n",
       "  </tbody>\n",
       "</table>\n",
       "<p>96463 rows × 8 columns</p>\n",
       "</div>"
      ],
      "text/plain": [
       "                         ce_description reporter ex_type RegRep  \\\n",
       "0                                 CHEST      ALO      XR    ALO   \n",
       "1                         CHEST ABDOMEN      SDA      XR    SDA   \n",
       "3                                 CHEST      ALO      XR    ALO   \n",
       "4                         CHEST ABDOMEN      ALO      XR    ALO   \n",
       "5                                 CHEST      SDA      XR    SDA   \n",
       "...                                 ...      ...     ...    ...   \n",
       "151369                           L FOOT       AS      XR    KSH   \n",
       "151372  R SHOULDER BILATERAL HANDS FEET      GJW      XR    KSH   \n",
       "151376                            CHEST       DL      XR    KSH   \n",
       "151377                            CHEST     LJW1      XR   LJW1   \n",
       "151378                           L KNEE      ADB      XR    ADB   \n",
       "\n",
       "       @ TrainingYear             @ RptGrp   @Phase  @YearMonth  \n",
       "0                   5  Plain Film & Fluoro  Phase 2      202108  \n",
       "1                   4  Plain Film & Fluoro  Phase 2      202108  \n",
       "3                   5  Plain Film & Fluoro  Phase 2      202108  \n",
       "4                   5  Plain Film & Fluoro  Phase 2      202108  \n",
       "5                   4  Plain Film & Fluoro  Phase 2      202108  \n",
       "...               ...                  ...      ...         ...  \n",
       "151369              1  Plain Film & Fluoro  Phase 1      201401  \n",
       "151372              1  Plain Film & Fluoro  Phase 1      201401  \n",
       "151376              1  Plain Film & Fluoro  Phase 1      201312  \n",
       "151377              2  Plain Film & Fluoro  Phase 1      201810  \n",
       "151378              1  Plain Film & Fluoro  Phase 1      202005  \n",
       "\n",
       "[96463 rows x 8 columns]"
      ]
     },
     "execution_count": 5,
     "metadata": {},
     "output_type": "execute_result"
    }
   ],
   "source": [
    "xrs = data[data.ex_type == \"XR\"]\n",
    "xrs"
   ]
  },
  {
   "cell_type": "markdown",
   "metadata": {},
   "source": [
    "### Lexicon"
   ]
  },
  {
   "cell_type": "code",
   "execution_count": 6,
   "metadata": {},
   "outputs": [],
   "source": [
    "ce_description = xrs['ce_description']\n",
    "ce_description_counts = pd.Series(ce_description).value_counts()"
   ]
  },
  {
   "cell_type": "code",
   "execution_count": 7,
   "metadata": {},
   "outputs": [
    {
     "data": {
      "text/plain": [
       "CHEST                   45447\n",
       "ABDOMEN                  4876\n",
       "CHEST ABDOMEN            3046\n",
       "R HIP                    2547\n",
       "L HIP                    2321\n",
       "R KNEE                   1969\n",
       "L SPINE                  1902\n",
       "L KNEE                   1801\n",
       "PELVIS                   1741\n",
       "C SPINE                  1293\n",
       "R SHOULDER                918\n",
       "R HAND                    877\n",
       "L SHOULDER                852\n",
       "R ANKLE                   846\n",
       "L FINGER                  801\n",
       "L ANKLE                   770\n",
       "R FINGER                  715\n",
       "R FOOT                    697\n",
       "L FOOT                    663\n",
       "L HAND                    647\n",
       "R KNEE POST OP            644\n",
       "R HIP POST OP             634\n",
       "L WRIST                   606\n",
       "R WRIST                   575\n",
       "L HIP POST OP             540\n",
       "L KNEE POST OP            520\n",
       "R FEMUR                   505\n",
       "L FEMUR                   502\n",
       "OPG                       481\n",
       "T SPINE                   430\n",
       "BILATERAL HIPS            423\n",
       "L ELBOW                   416\n",
       "CHEST 1                   415\n",
       "L THUMB                   381\n",
       "WHOLE SPINE               367\n",
       "R ELBOW                   364\n",
       "BILATERAL KNEES           355\n",
       "R THUMB                   337\n",
       "T L SPINE                 327\n",
       "L TIB FIB                 281\n",
       "R TIB FIB                 265\n",
       "CHEST R HIP               235\n",
       "CHEST L HIP               207\n",
       "BILATERAL FEET            197\n",
       "R ANKLE FOOT              181\n",
       "R TOE                     177\n",
       "L FOREARM                 164\n",
       "L ANKLE FOOT              159\n",
       "L TOE                     150\n",
       "BILATERAL HANDS           148\n",
       "R FOREARM                 134\n",
       "BILATERAL HANDS FEET      132\n",
       "CHEST L SPINE             131\n",
       "R HUMERUS                 130\n",
       "CHEST PELVIS              129\n",
       "L HUMERUS                 124\n",
       "CHEST 2                   120\n",
       "L SPINE PELVIS            116\n",
       "KUB                       105\n",
       "Name: ce_description, dtype: int64"
      ]
     },
     "execution_count": 7,
     "metadata": {},
     "output_type": "execute_result"
    }
   ],
   "source": [
    "ce_description_counts[ce_description_counts > 100]"
   ]
  },
  {
   "cell_type": "code",
   "execution_count": 8,
   "metadata": {},
   "outputs": [
    {
     "data": {
      "text/plain": [
       "543"
      ]
     },
     "execution_count": 8,
     "metadata": {},
     "output_type": "execute_result"
    }
   ],
   "source": [
    "# total number of individual descriptors, e.g. CHEST, ABDOMEN, LEFT, CERVICAL etc.\n",
    "len(set(data[data.ex_type == \"XR\"].ce_description.str.cat(sep=' ').split(\" \")))"
   ]
  },
  {
   "cell_type": "code",
   "execution_count": 9,
   "metadata": {},
   "outputs": [
    {
     "name": "stdout",
     "output_type": "stream",
     "text": [
      "469\n"
     ]
    }
   ],
   "source": [
    "# total number of individual descriptors with symbols such as .,-` removed\n",
    "descriptors = data[data.ex_type == \"XR\"].ce_description.str.replace(r\"[^\\w\\s]\", \" \").str.cat(sep=' ').split(\" \")\n",
    "print(len(set(descriptors)))"
   ]
  },
  {
   "cell_type": "code",
   "execution_count": 10,
   "metadata": {
    "scrolled": true
   },
   "outputs": [
    {
     "data": {
      "text/plain": [
       "CHEST      52614\n",
       "L          18330\n",
       "R          15825\n",
       "ABDOMEN     8503\n",
       "HIP         7640\n",
       "           ...  \n",
       "1445HRS        1\n",
       "WORKER         1\n",
       "A6             1\n",
       "THORACO        1\n",
       "SACRO          1\n",
       "Length: 469, dtype: int64"
      ]
     },
     "execution_count": 10,
     "metadata": {},
     "output_type": "execute_result"
    }
   ],
   "source": [
    "counts = pd.Series(descriptors).value_counts()\n",
    "counts"
   ]
  },
  {
   "cell_type": "code",
   "execution_count": 11,
   "metadata": {},
   "outputs": [
    {
     "data": {
      "text/plain": [
       "CHEST        52614\n",
       "L            18330\n",
       "R            15825\n",
       "ABDOMEN       8503\n",
       "HIP           7640\n",
       "SPINE         6251\n",
       "KNEE          5976\n",
       "POST          2767\n",
       "OP            2767\n",
       "SHOULDER      2681\n",
       "PELVIS        2622\n",
       "ANKLE         2605\n",
       "BILATERAL     2332\n",
       "FOOT          2175\n",
       "HAND          2095\n",
       "WRIST         2067\n",
       "C             1842\n",
       "FINGER        1662\n",
       "FEMUR         1479\n",
       "              1467\n",
       "T             1269\n",
       "ELBOW         1264\n",
       "TIB            939\n",
       "FIB            935\n",
       "THUMB          869\n",
       "FEET           675\n",
       "HIPS           673\n",
       "OPG            624\n",
       "HANDS          613\n",
       "1              556\n",
       "KNEES          543\n",
       "FOREARM        542\n",
       "HUMERUS        475\n",
       "TOE            394\n",
       "WHOLE          381\n",
       "IN             375\n",
       "SCAPHOID       268\n",
       "CLAVICLE       228\n",
       "OPR            221\n",
       "2              214\n",
       "WRISTS         184\n",
       "MANDIBLE       150\n",
       "FACIAL         149\n",
       "BONES          148\n",
       "JOINTS         135\n",
       "KUB            129\n",
       "SI             122\n",
       "3              120\n",
       "NECK           117\n",
       "APR            103\n",
       "dtype: int64"
      ]
     },
     "execution_count": 11,
     "metadata": {},
     "output_type": "execute_result"
    }
   ],
   "source": [
    "counts[counts > 100]"
   ]
  },
  {
   "cell_type": "markdown",
   "metadata": {},
   "source": [
    "#### Data inhomogeneity\n",
    "By inspecting the keywords above, we found several sources of inhomogeneities.\n",
    "\n",
    "- Typos such as ABDOMON, CALCANEOUS, FINFGER\n",
    "- Missing or wrong delimiters such as CHESTABDOMEN, CHEST.ABDOMEN, LHAND, CHEST+ABDOMEN\n",
    "- Unintended symbols such as CHEST`\n",
    "- Unknown identifiers such as R16, 23, REFUGEE, OPR\n",
    "\n",
    "Fortunately, there are less than 50 keywords that appeared more than 100 times of the near 75k number of radiogrpahs."
   ]
  },
  {
   "cell_type": "markdown",
   "metadata": {},
   "source": [
    "## Parsing\n",
    "\n",
    "### Central region\n",
    "- Simple central region are counted by their appearance, such as CHEST, ABDOMEN, PELVIS\n",
    "- Multi-part central region are parsed by their modifier, such as C T L SPINE\n",
    "- Inconsistent usage of acronym such as SOFT TISSUE NECK and ST NECK\n",
    "\n",
    "### Peripheral region\n",
    "- Body part after BILATERAL are not consistently plural, such as BILATERAL ANKLE, FINGER, ELBOW\n",
    "\n",
    "### Counting conflicts\n",
    "\n",
    "- Inconsistency between modifiers and noun plurality, such as L FEET, BILATERAL HAND. In this case, the modifier takes precedence."
   ]
  },
  {
   "cell_type": "code",
   "execution_count": 13,
   "metadata": {},
   "outputs": [],
   "source": [
    "from src.parser import parse"
   ]
  },
  {
   "cell_type": "code",
   "execution_count": 14,
   "metadata": {},
   "outputs": [],
   "source": [
    "parts_sum = xrs['ce_description'].apply(parse)"
   ]
  },
  {
   "cell_type": "code",
   "execution_count": 15,
   "metadata": {},
   "outputs": [],
   "source": [
    "result = pd.concat([xrs, parts_sum.rename('parts_sum')], axis=1)"
   ]
  },
  {
   "cell_type": "code",
   "execution_count": 16,
   "metadata": {},
   "outputs": [],
   "source": [
    "result.to_csv(\"result.csv\")"
   ]
  },
  {
   "cell_type": "markdown",
   "metadata": {},
   "source": [
    "## Analysis"
   ]
  },
  {
   "cell_type": "markdown",
   "metadata": {},
   "source": [
    "### Percentage of multi-part studies"
   ]
  },
  {
   "cell_type": "code",
   "execution_count": 17,
   "metadata": {},
   "outputs": [
    {
     "data": {
      "text/html": [
       "<div>\n",
       "<style scoped>\n",
       "    .dataframe tbody tr th:only-of-type {\n",
       "        vertical-align: middle;\n",
       "    }\n",
       "\n",
       "    .dataframe tbody tr th {\n",
       "        vertical-align: top;\n",
       "    }\n",
       "\n",
       "    .dataframe thead th {\n",
       "        text-align: right;\n",
       "    }\n",
       "</style>\n",
       "<table border=\"1\" class=\"dataframe\">\n",
       "  <thead>\n",
       "    <tr style=\"text-align: right;\">\n",
       "      <th></th>\n",
       "      <th>ce_description</th>\n",
       "      <th>reporter</th>\n",
       "      <th>ex_type</th>\n",
       "      <th>RegRep</th>\n",
       "      <th>@ TrainingYear</th>\n",
       "      <th>@ RptGrp</th>\n",
       "      <th>@Phase</th>\n",
       "      <th>@YearMonth</th>\n",
       "      <th>parts_sum</th>\n",
       "    </tr>\n",
       "  </thead>\n",
       "  <tbody>\n",
       "    <tr>\n",
       "      <th>1271</th>\n",
       "      <td>BILATERAL HANDS WRISTS FEET</td>\n",
       "      <td>TUS</td>\n",
       "      <td>XR</td>\n",
       "      <td>TUS</td>\n",
       "      <td>2</td>\n",
       "      <td>Plain Film &amp; Fluoro</td>\n",
       "      <td>Phase 1</td>\n",
       "      <td>202108</td>\n",
       "      <td>6</td>\n",
       "    </tr>\n",
       "    <tr>\n",
       "      <th>1276</th>\n",
       "      <td>CHEST HIPS KNEES HANDS FEET</td>\n",
       "      <td>RRY</td>\n",
       "      <td>XR</td>\n",
       "      <td>RRY</td>\n",
       "      <td>4</td>\n",
       "      <td>Plain Film &amp; Fluoro</td>\n",
       "      <td>Phase 2</td>\n",
       "      <td>202108</td>\n",
       "      <td>9</td>\n",
       "    </tr>\n",
       "    <tr>\n",
       "      <th>2577</th>\n",
       "      <td>BILATERAL SHOULDERS HANDS FEET</td>\n",
       "      <td>LRH</td>\n",
       "      <td>XR</td>\n",
       "      <td>LRH</td>\n",
       "      <td>5</td>\n",
       "      <td>Plain Film &amp; Fluoro</td>\n",
       "      <td>Phase 2</td>\n",
       "      <td>202108</td>\n",
       "      <td>6</td>\n",
       "    </tr>\n",
       "    <tr>\n",
       "      <th>2989</th>\n",
       "      <td>L SPINE BILATERAL SHOULDERS HIPS HANDS</td>\n",
       "      <td>MSU</td>\n",
       "      <td>XR</td>\n",
       "      <td>MSU</td>\n",
       "      <td>2</td>\n",
       "      <td>Plain Film &amp; Fluoro</td>\n",
       "      <td>Phase 1</td>\n",
       "      <td>202108</td>\n",
       "      <td>7</td>\n",
       "    </tr>\n",
       "    <tr>\n",
       "      <th>3176</th>\n",
       "      <td>CHEST BILATERAL HANDS KNEES FEET X-RAY</td>\n",
       "      <td>DMR</td>\n",
       "      <td>XR</td>\n",
       "      <td>DMR</td>\n",
       "      <td>3</td>\n",
       "      <td>Plain Film &amp; Fluoro</td>\n",
       "      <td>Phase 1</td>\n",
       "      <td>202108</td>\n",
       "      <td>7</td>\n",
       "    </tr>\n",
       "    <tr>\n",
       "      <th>...</th>\n",
       "      <td>...</td>\n",
       "      <td>...</td>\n",
       "      <td>...</td>\n",
       "      <td>...</td>\n",
       "      <td>...</td>\n",
       "      <td>...</td>\n",
       "      <td>...</td>\n",
       "      <td>...</td>\n",
       "      <td>...</td>\n",
       "    </tr>\n",
       "    <tr>\n",
       "      <th>148661</th>\n",
       "      <td>CHEST BILATERAL WRISTS HANDS FEET</td>\n",
       "      <td>DL</td>\n",
       "      <td>XR</td>\n",
       "      <td>KSH</td>\n",
       "      <td>2</td>\n",
       "      <td>Plain Film &amp; Fluoro</td>\n",
       "      <td>Phase 1</td>\n",
       "      <td>201503</td>\n",
       "      <td>7</td>\n",
       "    </tr>\n",
       "    <tr>\n",
       "      <th>150359</th>\n",
       "      <td>BILATERAL WRISTS HANDS FEET</td>\n",
       "      <td>AS</td>\n",
       "      <td>XR</td>\n",
       "      <td>KSH</td>\n",
       "      <td>1</td>\n",
       "      <td>Plain Film &amp; Fluoro</td>\n",
       "      <td>Phase 1</td>\n",
       "      <td>201409</td>\n",
       "      <td>6</td>\n",
       "    </tr>\n",
       "    <tr>\n",
       "      <th>150752</th>\n",
       "      <td>CHEST R HUM FOREARM FEMUR TIB FIB L FOR</td>\n",
       "      <td>JAC2</td>\n",
       "      <td>XR</td>\n",
       "      <td>KSH</td>\n",
       "      <td>1</td>\n",
       "      <td>Plain Film &amp; Fluoro</td>\n",
       "      <td>Phase 1</td>\n",
       "      <td>201403</td>\n",
       "      <td>6</td>\n",
       "    </tr>\n",
       "    <tr>\n",
       "      <th>151273</th>\n",
       "      <td>SHOULDERS HANDS HIPS L SPINE</td>\n",
       "      <td>IAC</td>\n",
       "      <td>XR</td>\n",
       "      <td>KSH</td>\n",
       "      <td>1</td>\n",
       "      <td>Plain Film &amp; Fluoro</td>\n",
       "      <td>Phase 1</td>\n",
       "      <td>201401</td>\n",
       "      <td>7</td>\n",
       "    </tr>\n",
       "    <tr>\n",
       "      <th>151331</th>\n",
       "      <td>WRISTS HANDS FEET</td>\n",
       "      <td>DOK</td>\n",
       "      <td>XR</td>\n",
       "      <td>KSH</td>\n",
       "      <td>1</td>\n",
       "      <td>Plain Film &amp; Fluoro</td>\n",
       "      <td>Phase 1</td>\n",
       "      <td>201401</td>\n",
       "      <td>6</td>\n",
       "    </tr>\n",
       "  </tbody>\n",
       "</table>\n",
       "<p>176 rows × 9 columns</p>\n",
       "</div>"
      ],
      "text/plain": [
       "                                 ce_description reporter ex_type RegRep  \\\n",
       "1271                BILATERAL HANDS WRISTS FEET      TUS      XR    TUS   \n",
       "1276                CHEST HIPS KNEES HANDS FEET      RRY      XR    RRY   \n",
       "2577             BILATERAL SHOULDERS HANDS FEET      LRH      XR    LRH   \n",
       "2989     L SPINE BILATERAL SHOULDERS HIPS HANDS      MSU      XR    MSU   \n",
       "3176     CHEST BILATERAL HANDS KNEES FEET X-RAY      DMR      XR    DMR   \n",
       "...                                         ...      ...     ...    ...   \n",
       "148661        CHEST BILATERAL WRISTS HANDS FEET       DL      XR    KSH   \n",
       "150359              BILATERAL WRISTS HANDS FEET       AS      XR    KSH   \n",
       "150752  CHEST R HUM FOREARM FEMUR TIB FIB L FOR     JAC2      XR    KSH   \n",
       "151273             SHOULDERS HANDS HIPS L SPINE      IAC      XR    KSH   \n",
       "151331                        WRISTS HANDS FEET      DOK      XR    KSH   \n",
       "\n",
       "       @ TrainingYear             @ RptGrp   @Phase  @YearMonth  parts_sum  \n",
       "1271                2  Plain Film & Fluoro  Phase 1      202108          6  \n",
       "1276                4  Plain Film & Fluoro  Phase 2      202108          9  \n",
       "2577                5  Plain Film & Fluoro  Phase 2      202108          6  \n",
       "2989                2  Plain Film & Fluoro  Phase 1      202108          7  \n",
       "3176                3  Plain Film & Fluoro  Phase 1      202108          7  \n",
       "...               ...                  ...      ...         ...        ...  \n",
       "148661              2  Plain Film & Fluoro  Phase 1      201503          7  \n",
       "150359              1  Plain Film & Fluoro  Phase 1      201409          6  \n",
       "150752              1  Plain Film & Fluoro  Phase 1      201403          6  \n",
       "151273              1  Plain Film & Fluoro  Phase 1      201401          7  \n",
       "151331              1  Plain Film & Fluoro  Phase 1      201401          6  \n",
       "\n",
       "[176 rows x 9 columns]"
      ]
     },
     "execution_count": 17,
     "metadata": {},
     "output_type": "execute_result"
    }
   ],
   "source": [
    "result[result['parts_sum'] > 5]"
   ]
  },
  {
   "cell_type": "markdown",
   "metadata": {},
   "source": [
    "9360 / 75000 = 12.5%"
   ]
  },
  {
   "cell_type": "markdown",
   "metadata": {},
   "source": [
    "### Group by year and registrar"
   ]
  },
  {
   "cell_type": "code",
   "execution_count": 18,
   "metadata": {},
   "outputs": [],
   "source": [
    "registrars = result.groupby(\"RegRep\")"
   ]
  },
  {
   "cell_type": "code",
   "execution_count": 19,
   "metadata": {},
   "outputs": [],
   "source": [
    "cur = registrars.size()"
   ]
  },
  {
   "cell_type": "code",
   "execution_count": 20,
   "metadata": {},
   "outputs": [],
   "source": [
    "new = registrars['parts_sum'].sum()"
   ]
  },
  {
   "cell_type": "code",
   "execution_count": 23,
   "metadata": {},
   "outputs": [
    {
     "data": {
      "text/html": [
       "<div>\n",
       "<style scoped>\n",
       "    .dataframe tbody tr th:only-of-type {\n",
       "        vertical-align: middle;\n",
       "    }\n",
       "\n",
       "    .dataframe tbody tr th {\n",
       "        vertical-align: top;\n",
       "    }\n",
       "\n",
       "    .dataframe thead th {\n",
       "        text-align: right;\n",
       "    }\n",
       "</style>\n",
       "<table border=\"1\" class=\"dataframe\">\n",
       "  <thead>\n",
       "    <tr style=\"text-align: right;\">\n",
       "      <th></th>\n",
       "      <th>current</th>\n",
       "      <th>new</th>\n",
       "      <th>change</th>\n",
       "    </tr>\n",
       "    <tr>\n",
       "      <th>RegRep</th>\n",
       "      <th></th>\n",
       "      <th></th>\n",
       "      <th></th>\n",
       "    </tr>\n",
       "  </thead>\n",
       "  <tbody>\n",
       "    <tr>\n",
       "      <th>ADB</th>\n",
       "      <td>4506</td>\n",
       "      <td>5188</td>\n",
       "      <td>1.151354</td>\n",
       "    </tr>\n",
       "    <tr>\n",
       "      <th>AJV</th>\n",
       "      <td>534</td>\n",
       "      <td>614</td>\n",
       "      <td>1.149813</td>\n",
       "    </tr>\n",
       "    <tr>\n",
       "      <th>ALO</th>\n",
       "      <td>4970</td>\n",
       "      <td>6255</td>\n",
       "      <td>1.258551</td>\n",
       "    </tr>\n",
       "    <tr>\n",
       "      <th>BDR</th>\n",
       "      <td>1168</td>\n",
       "      <td>1460</td>\n",
       "      <td>1.250000</td>\n",
       "    </tr>\n",
       "    <tr>\n",
       "      <th>CCF</th>\n",
       "      <td>3916</td>\n",
       "      <td>4410</td>\n",
       "      <td>1.126149</td>\n",
       "    </tr>\n",
       "    <tr>\n",
       "      <th>DMR</th>\n",
       "      <td>5941</td>\n",
       "      <td>7705</td>\n",
       "      <td>1.296920</td>\n",
       "    </tr>\n",
       "    <tr>\n",
       "      <th>ESG</th>\n",
       "      <td>4526</td>\n",
       "      <td>5292</td>\n",
       "      <td>1.169244</td>\n",
       "    </tr>\n",
       "    <tr>\n",
       "      <th>IVM</th>\n",
       "      <td>2923</td>\n",
       "      <td>3552</td>\n",
       "      <td>1.215190</td>\n",
       "    </tr>\n",
       "    <tr>\n",
       "      <th>KCK</th>\n",
       "      <td>797</td>\n",
       "      <td>946</td>\n",
       "      <td>1.186951</td>\n",
       "    </tr>\n",
       "    <tr>\n",
       "      <th>KSH</th>\n",
       "      <td>6982</td>\n",
       "      <td>8194</td>\n",
       "      <td>1.173589</td>\n",
       "    </tr>\n",
       "    <tr>\n",
       "      <th>LJS</th>\n",
       "      <td>4255</td>\n",
       "      <td>5013</td>\n",
       "      <td>1.178143</td>\n",
       "    </tr>\n",
       "    <tr>\n",
       "      <th>LJW1</th>\n",
       "      <td>9272</td>\n",
       "      <td>10663</td>\n",
       "      <td>1.150022</td>\n",
       "    </tr>\n",
       "    <tr>\n",
       "      <th>LMC</th>\n",
       "      <td>406</td>\n",
       "      <td>462</td>\n",
       "      <td>1.137931</td>\n",
       "    </tr>\n",
       "    <tr>\n",
       "      <th>LRH</th>\n",
       "      <td>6359</td>\n",
       "      <td>7203</td>\n",
       "      <td>1.132725</td>\n",
       "    </tr>\n",
       "    <tr>\n",
       "      <th>MMARAIS</th>\n",
       "      <td>5086</td>\n",
       "      <td>5614</td>\n",
       "      <td>1.103814</td>\n",
       "    </tr>\n",
       "    <tr>\n",
       "      <th>MSU</th>\n",
       "      <td>1078</td>\n",
       "      <td>1546</td>\n",
       "      <td>1.434137</td>\n",
       "    </tr>\n",
       "    <tr>\n",
       "      <th>NWO</th>\n",
       "      <td>1281</td>\n",
       "      <td>1531</td>\n",
       "      <td>1.195160</td>\n",
       "    </tr>\n",
       "    <tr>\n",
       "      <th>RRY</th>\n",
       "      <td>5936</td>\n",
       "      <td>7249</td>\n",
       "      <td>1.221193</td>\n",
       "    </tr>\n",
       "    <tr>\n",
       "      <th>SCK</th>\n",
       "      <td>5925</td>\n",
       "      <td>6824</td>\n",
       "      <td>1.151730</td>\n",
       "    </tr>\n",
       "    <tr>\n",
       "      <th>SCS</th>\n",
       "      <td>4613</td>\n",
       "      <td>5069</td>\n",
       "      <td>1.098851</td>\n",
       "    </tr>\n",
       "    <tr>\n",
       "      <th>SDA</th>\n",
       "      <td>6339</td>\n",
       "      <td>6821</td>\n",
       "      <td>1.076037</td>\n",
       "    </tr>\n",
       "    <tr>\n",
       "      <th>SWSR</th>\n",
       "      <td>848</td>\n",
       "      <td>965</td>\n",
       "      <td>1.137972</td>\n",
       "    </tr>\n",
       "    <tr>\n",
       "      <th>TUS</th>\n",
       "      <td>2172</td>\n",
       "      <td>2663</td>\n",
       "      <td>1.226059</td>\n",
       "    </tr>\n",
       "    <tr>\n",
       "      <th>WAB</th>\n",
       "      <td>2835</td>\n",
       "      <td>3353</td>\n",
       "      <td>1.182716</td>\n",
       "    </tr>\n",
       "    <tr>\n",
       "      <th>WJI</th>\n",
       "      <td>3795</td>\n",
       "      <td>4371</td>\n",
       "      <td>1.151779</td>\n",
       "    </tr>\n",
       "  </tbody>\n",
       "</table>\n",
       "</div>"
      ],
      "text/plain": [
       "         current    new    change\n",
       "RegRep                           \n",
       "ADB         4506   5188  1.151354\n",
       "AJV          534    614  1.149813\n",
       "ALO         4970   6255  1.258551\n",
       "BDR         1168   1460  1.250000\n",
       "CCF         3916   4410  1.126149\n",
       "DMR         5941   7705  1.296920\n",
       "ESG         4526   5292  1.169244\n",
       "IVM         2923   3552  1.215190\n",
       "KCK          797    946  1.186951\n",
       "KSH         6982   8194  1.173589\n",
       "LJS         4255   5013  1.178143\n",
       "LJW1        9272  10663  1.150022\n",
       "LMC          406    462  1.137931\n",
       "LRH         6359   7203  1.132725\n",
       "MMARAIS     5086   5614  1.103814\n",
       "MSU         1078   1546  1.434137\n",
       "NWO         1281   1531  1.195160\n",
       "RRY         5936   7249  1.221193\n",
       "SCK         5925   6824  1.151730\n",
       "SCS         4613   5069  1.098851\n",
       "SDA         6339   6821  1.076037\n",
       "SWSR         848    965  1.137972\n",
       "TUS         2172   2663  1.226059\n",
       "WAB         2835   3353  1.182716\n",
       "WJI         3795   4371  1.151779"
      ]
     },
     "execution_count": 23,
     "metadata": {},
     "output_type": "execute_result"
    }
   ],
   "source": [
    "pd.DataFrame({\"current\": cur, \"new\": new, \"change\": new/cur})"
   ]
  },
  {
   "cell_type": "code",
   "execution_count": null,
   "metadata": {},
   "outputs": [],
   "source": [
    "grouped = result.groupby([\"RegRep\", \"@ TrainingYear\", \"@ RptGrp\"], sort=False).size()"
   ]
  },
  {
   "cell_type": "code",
   "execution_count": null,
   "metadata": {},
   "outputs": [],
   "source": [
    "pd.DataFrame(grouped).sort_values([\"RegRep\", \"@ TrainingYear\"]).head(30)"
   ]
  },
  {
   "cell_type": "markdown",
   "metadata": {},
   "source": [
    "# Result"
   ]
  },
  {
   "cell_type": "markdown",
   "metadata": {},
   "source": [
    "- There are 74849 plain radiographs recorded from 2013-12 to 2020-10, each may be include one or more body parts.\n",
    "- There are 383 unique identifiers initially, 287 unique identifiers after filtration"
   ]
  },
  {
   "cell_type": "markdown",
   "metadata": {},
   "source": [
    "# Limitations\n",
    "\n",
    "- Unintended filtration of studies with typos"
   ]
  },
  {
   "cell_type": "markdown",
   "metadata": {},
   "source": [
    "# Appendix"
   ]
  },
  {
   "cell_type": "markdown",
   "metadata": {},
   "source": [
    "## Descriptor related"
   ]
  },
  {
   "cell_type": "code",
   "execution_count": 58,
   "metadata": {},
   "outputs": [],
   "source": [
    "def write_raw_descriptors():\n",
    "    # write a list of all descriptors to file\n",
    "    with open(\"raw_descriptors.txt\", \"w\") as f:\n",
    "        for term in descriptor_set:\n",
    "            f.write(f\"{term}\\n\")\n",
    "\n",
    "def write_descriptor_stats(s, fn):\n",
    "    # write a list of descriptor frequency table to file\n",
    "    with open(f\"{fn}.txt\", \"w\") as f:\n",
    "        for term, count in s.value_counts().iteritems(): \n",
    "            f.write(f\"{term}\\t\\t{count}\\n\")"
   ]
  },
  {
   "cell_type": "code",
   "execution_count": 17,
   "metadata": {},
   "outputs": [],
   "source": [
    "pd.Series(raw_descriptors).to_csv(\"ce_descriptions.txt\", index=False, header=False)"
   ]
  },
  {
   "cell_type": "code",
   "execution_count": 59,
   "metadata": {},
   "outputs": [],
   "source": [
    "write_descriptor_stats(filtered_descriptor_series, \"cleaned_descriptor_stats\")"
   ]
  },
  {
   "cell_type": "markdown",
   "metadata": {},
   "source": [
    "## Parse and then append a new column onto the raw dataset"
   ]
  },
  {
   "cell_type": "code",
   "execution_count": 1,
   "metadata": {},
   "outputs": [],
   "source": [
    "import re\n",
    "import pandas as pd\n",
    "import numpy as np"
   ]
  },
  {
   "cell_type": "code",
   "execution_count": 2,
   "metadata": {},
   "outputs": [],
   "source": [
    "from src.parser import parse"
   ]
  },
  {
   "cell_type": "code",
   "execution_count": 3,
   "metadata": {},
   "outputs": [],
   "source": [
    "filename = \"ExamDataForTubo_202109_2.csv\"\n",
    "outname = \"ExamDataParsed_202109_2.csv\""
   ]
  },
  {
   "cell_type": "code",
   "execution_count": 4,
   "metadata": {
    "scrolled": false
   },
   "outputs": [],
   "source": [
    "data = pd.read_csv(filename)"
   ]
  },
  {
   "cell_type": "code",
   "execution_count": 5,
   "metadata": {},
   "outputs": [],
   "source": [
    "parts_sum = data['ce_description'].apply(parse)"
   ]
  },
  {
   "cell_type": "code",
   "execution_count": 6,
   "metadata": {},
   "outputs": [],
   "source": [
    "parsed = pd.concat([data, parts_sum.rename('parts_sum')], axis=1)"
   ]
  },
  {
   "cell_type": "code",
   "execution_count": 7,
   "metadata": {},
   "outputs": [],
   "source": [
    "result = pd.concat([data, parsed.parts_sum.rename('parts_sum')], axis=1)"
   ]
  },
  {
   "cell_type": "code",
   "execution_count": 8,
   "metadata": {},
   "outputs": [],
   "source": [
    "result.to_csv(outname)"
   ]
  }
 ],
 "metadata": {
  "kernelspec": {
   "display_name": "Python 3",
   "language": "python",
   "name": "python3"
  },
  "language_info": {
   "codemirror_mode": {
    "name": "ipython",
    "version": 3
   },
   "file_extension": ".py",
   "mimetype": "text/x-python",
   "name": "python",
   "nbconvert_exporter": "python",
   "pygments_lexer": "ipython3",
   "version": "3.8.11"
  }
 },
 "nbformat": 4,
 "nbformat_minor": 4
}
